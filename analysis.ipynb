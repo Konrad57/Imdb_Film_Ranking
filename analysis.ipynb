{
 "cells": [
  {
   "cell_type": "markdown",
   "source": [
    "# Imports"
   ],
   "metadata": {
    "collapsed": false
   },
   "id": "a7480c2bbdd65fab"
  },
  {
   "cell_type": "code",
   "execution_count": 1,
   "id": "initial_id",
   "metadata": {
    "collapsed": true,
    "ExecuteTime": {
     "end_time": "2024-07-07T07:54:58.536297Z",
     "start_time": "2024-07-07T07:54:57.953669Z"
    }
   },
   "outputs": [],
   "source": [
    "import os\n",
    "from utilities import load_data, clean_data\n",
    "from task1_functions import quality_of_movies_by_country\n",
    "from task2_functions import total_votes_by_country, average_composite_score_by_country, weighted_average_composite_score_by_country"
   ]
  },
  {
   "cell_type": "markdown",
   "source": [
    "# Data loading"
   ],
   "metadata": {
    "collapsed": false
   },
   "id": "c60614fb6200f6ea"
  },
  {
   "cell_type": "code",
   "outputs": [
    {
     "name": "stdout",
     "output_type": "stream",
     "text": [
      "Loading data from: data_imdb\\title.basics.tsv ...\n",
      "Loading data from: data_imdb\\title.akas.tsv ...\n",
      "Loading data from: data_imdb\\title.ratings.tsv ...\n"
     ]
    }
   ],
   "source": [
    "# Define the data directory and output directory\n",
    "data_dir = 'data_imdb'\n",
    "output_dir = 'cleaned_data'\n",
    "\n",
    "# Load and clean the data\n",
    "basics = clean_data(load_data(os.path.join(data_dir, 'title.basics.tsv')))\n",
    "akas = clean_data(load_data(os.path.join(data_dir, 'title.akas.tsv')))\n",
    "ratings = clean_data(load_data(os.path.join(data_dir, 'title.ratings.tsv')))"
   ],
   "metadata": {
    "collapsed": false,
    "ExecuteTime": {
     "end_time": "2024-07-07T07:57:19.417150Z",
     "start_time": "2024-07-07T07:54:58.537390Z"
    }
   },
   "id": "5b68c5268a3f296a",
   "execution_count": 2
  },
  {
   "cell_type": "code",
   "outputs": [
    {
     "name": "stdout",
     "output_type": "stream",
     "text": [
      "Sample data from basics:\n"
     ]
    },
    {
     "data": {
      "text/plain": "      tconst titleType            primaryTitle           originalTitle  \\\n0  tt0000001     short              Carmencita              Carmencita   \n1  tt0000002     short  Le clown et ses chiens  Le clown et ses chiens   \n2  tt0000003     short          Pauvre Pierrot          Pauvre Pierrot   \n3  tt0000004     short             Un bon bock             Un bon bock   \n4  tt0000005     short        Blacksmith Scene        Blacksmith Scene   \n\n  isAdult startYear endYear runtimeMinutes                    genres  \n0       0      1894    <NA>              1         Documentary,Short  \n1       0      1892    <NA>              5           Animation,Short  \n2       0      1892    <NA>              5  Animation,Comedy,Romance  \n3       0      1892    <NA>             12           Animation,Short  \n4       0      1893    <NA>              1              Comedy,Short  ",
      "text/html": "<div>\n<style scoped>\n    .dataframe tbody tr th:only-of-type {\n        vertical-align: middle;\n    }\n\n    .dataframe tbody tr th {\n        vertical-align: top;\n    }\n\n    .dataframe thead th {\n        text-align: right;\n    }\n</style>\n<table border=\"1\" class=\"dataframe\">\n  <thead>\n    <tr style=\"text-align: right;\">\n      <th></th>\n      <th>tconst</th>\n      <th>titleType</th>\n      <th>primaryTitle</th>\n      <th>originalTitle</th>\n      <th>isAdult</th>\n      <th>startYear</th>\n      <th>endYear</th>\n      <th>runtimeMinutes</th>\n      <th>genres</th>\n    </tr>\n  </thead>\n  <tbody>\n    <tr>\n      <th>0</th>\n      <td>tt0000001</td>\n      <td>short</td>\n      <td>Carmencita</td>\n      <td>Carmencita</td>\n      <td>0</td>\n      <td>1894</td>\n      <td>&lt;NA&gt;</td>\n      <td>1</td>\n      <td>Documentary,Short</td>\n    </tr>\n    <tr>\n      <th>1</th>\n      <td>tt0000002</td>\n      <td>short</td>\n      <td>Le clown et ses chiens</td>\n      <td>Le clown et ses chiens</td>\n      <td>0</td>\n      <td>1892</td>\n      <td>&lt;NA&gt;</td>\n      <td>5</td>\n      <td>Animation,Short</td>\n    </tr>\n    <tr>\n      <th>2</th>\n      <td>tt0000003</td>\n      <td>short</td>\n      <td>Pauvre Pierrot</td>\n      <td>Pauvre Pierrot</td>\n      <td>0</td>\n      <td>1892</td>\n      <td>&lt;NA&gt;</td>\n      <td>5</td>\n      <td>Animation,Comedy,Romance</td>\n    </tr>\n    <tr>\n      <th>3</th>\n      <td>tt0000004</td>\n      <td>short</td>\n      <td>Un bon bock</td>\n      <td>Un bon bock</td>\n      <td>0</td>\n      <td>1892</td>\n      <td>&lt;NA&gt;</td>\n      <td>12</td>\n      <td>Animation,Short</td>\n    </tr>\n    <tr>\n      <th>4</th>\n      <td>tt0000005</td>\n      <td>short</td>\n      <td>Blacksmith Scene</td>\n      <td>Blacksmith Scene</td>\n      <td>0</td>\n      <td>1893</td>\n      <td>&lt;NA&gt;</td>\n      <td>1</td>\n      <td>Comedy,Short</td>\n    </tr>\n  </tbody>\n</table>\n</div>"
     },
     "execution_count": 3,
     "metadata": {},
     "output_type": "execute_result"
    }
   ],
   "source": [
    "print(\"Sample data from basics:\")\n",
    "basics.head()"
   ],
   "metadata": {
    "collapsed": false,
    "ExecuteTime": {
     "end_time": "2024-07-07T07:57:19.488452Z",
     "start_time": "2024-07-07T07:57:19.424380Z"
    }
   },
   "id": "bded94dad45d2681",
   "execution_count": 3
  },
  {
   "cell_type": "code",
   "outputs": [
    {
     "name": "stdout",
     "output_type": "stream",
     "text": [
      "Sample data from akas:\n"
     ]
    },
    {
     "data": {
      "text/plain": "     titleId  ordering                      title region language  \\\n0  tt0000001         1                 Carmencita   <NA>     <NA>   \n1  tt0000001         2                 Carmencita     DE     <NA>   \n2  tt0000001         3                 Carmencita     US     <NA>   \n3  tt0000001         4  Carmencita - spanyol tánc     HU     <NA>   \n4  tt0000001         5                 Καρμενσίτα     GR     <NA>   \n\n         types     attributes  isOriginalTitle  \n0     original           <NA>                1  \n1         <NA>  literal title                0  \n2  imdbDisplay           <NA>                0  \n3  imdbDisplay           <NA>                0  \n4  imdbDisplay           <NA>                0  ",
      "text/html": "<div>\n<style scoped>\n    .dataframe tbody tr th:only-of-type {\n        vertical-align: middle;\n    }\n\n    .dataframe tbody tr th {\n        vertical-align: top;\n    }\n\n    .dataframe thead th {\n        text-align: right;\n    }\n</style>\n<table border=\"1\" class=\"dataframe\">\n  <thead>\n    <tr style=\"text-align: right;\">\n      <th></th>\n      <th>titleId</th>\n      <th>ordering</th>\n      <th>title</th>\n      <th>region</th>\n      <th>language</th>\n      <th>types</th>\n      <th>attributes</th>\n      <th>isOriginalTitle</th>\n    </tr>\n  </thead>\n  <tbody>\n    <tr>\n      <th>0</th>\n      <td>tt0000001</td>\n      <td>1</td>\n      <td>Carmencita</td>\n      <td>&lt;NA&gt;</td>\n      <td>&lt;NA&gt;</td>\n      <td>original</td>\n      <td>&lt;NA&gt;</td>\n      <td>1</td>\n    </tr>\n    <tr>\n      <th>1</th>\n      <td>tt0000001</td>\n      <td>2</td>\n      <td>Carmencita</td>\n      <td>DE</td>\n      <td>&lt;NA&gt;</td>\n      <td>&lt;NA&gt;</td>\n      <td>literal title</td>\n      <td>0</td>\n    </tr>\n    <tr>\n      <th>2</th>\n      <td>tt0000001</td>\n      <td>3</td>\n      <td>Carmencita</td>\n      <td>US</td>\n      <td>&lt;NA&gt;</td>\n      <td>imdbDisplay</td>\n      <td>&lt;NA&gt;</td>\n      <td>0</td>\n    </tr>\n    <tr>\n      <th>3</th>\n      <td>tt0000001</td>\n      <td>4</td>\n      <td>Carmencita - spanyol tánc</td>\n      <td>HU</td>\n      <td>&lt;NA&gt;</td>\n      <td>imdbDisplay</td>\n      <td>&lt;NA&gt;</td>\n      <td>0</td>\n    </tr>\n    <tr>\n      <th>4</th>\n      <td>tt0000001</td>\n      <td>5</td>\n      <td>Καρμενσίτα</td>\n      <td>GR</td>\n      <td>&lt;NA&gt;</td>\n      <td>imdbDisplay</td>\n      <td>&lt;NA&gt;</td>\n      <td>0</td>\n    </tr>\n  </tbody>\n</table>\n</div>"
     },
     "metadata": {},
     "output_type": "display_data"
    }
   ],
   "source": [
    "print(\"Sample data from akas:\")\n",
    "display(akas.head())"
   ],
   "metadata": {
    "collapsed": false,
    "ExecuteTime": {
     "end_time": "2024-07-07T07:57:19.499217Z",
     "start_time": "2024-07-07T07:57:19.489462Z"
    }
   },
   "id": "78e17172baae6e93",
   "execution_count": 4
  },
  {
   "cell_type": "code",
   "outputs": [
    {
     "name": "stdout",
     "output_type": "stream",
     "text": [
      "Sample data from ratings:\n"
     ]
    },
    {
     "data": {
      "text/plain": "      tconst  averageRating  numVotes\n0  tt0000001            5.7      2058\n1  tt0000002            5.7       276\n2  tt0000003            6.5      2022\n3  tt0000004            5.4       179\n4  tt0000005            6.2      2787",
      "text/html": "<div>\n<style scoped>\n    .dataframe tbody tr th:only-of-type {\n        vertical-align: middle;\n    }\n\n    .dataframe tbody tr th {\n        vertical-align: top;\n    }\n\n    .dataframe thead th {\n        text-align: right;\n    }\n</style>\n<table border=\"1\" class=\"dataframe\">\n  <thead>\n    <tr style=\"text-align: right;\">\n      <th></th>\n      <th>tconst</th>\n      <th>averageRating</th>\n      <th>numVotes</th>\n    </tr>\n  </thead>\n  <tbody>\n    <tr>\n      <th>0</th>\n      <td>tt0000001</td>\n      <td>5.7</td>\n      <td>2058</td>\n    </tr>\n    <tr>\n      <th>1</th>\n      <td>tt0000002</td>\n      <td>5.7</td>\n      <td>276</td>\n    </tr>\n    <tr>\n      <th>2</th>\n      <td>tt0000003</td>\n      <td>6.5</td>\n      <td>2022</td>\n    </tr>\n    <tr>\n      <th>3</th>\n      <td>tt0000004</td>\n      <td>5.4</td>\n      <td>179</td>\n    </tr>\n    <tr>\n      <th>4</th>\n      <td>tt0000005</td>\n      <td>6.2</td>\n      <td>2787</td>\n    </tr>\n  </tbody>\n</table>\n</div>"
     },
     "metadata": {},
     "output_type": "display_data"
    }
   ],
   "source": [
    "print(\"Sample data from ratings:\")\n",
    "display(ratings.head())"
   ],
   "metadata": {
    "collapsed": false,
    "ExecuteTime": {
     "end_time": "2024-07-07T07:57:19.513382Z",
     "start_time": "2024-07-07T07:57:19.501301Z"
    }
   },
   "id": "f31aa6b5f2bbaf04",
   "execution_count": 5
  },
  {
   "cell_type": "markdown",
   "source": [
    "# Task 1 - Quality of movies by country"
   ],
   "metadata": {
    "collapsed": false
   },
   "id": "80a2488566c69ac5"
  },
  {
   "cell_type": "code",
   "outputs": [
    {
     "name": "stdout",
     "output_type": "stream",
     "text": [
      "There are 665 movies without an assigned country.\n"
     ]
    },
    {
     "data": {
      "text/plain": "{10: {'GB': 2,\n  'IS': 1,\n  'ID': 1,\n  'FI': 1,\n  'DK': 1,\n  'EE': 1,\n  'AE': 1,\n  'HK': 1,\n  'NZ': 1},\n 20: {'IN': 4,\n  'GB': 3,\n  'AE': 2,\n  'ID': 2,\n  'NZ': 2,\n  'IS': 1,\n  'FI': 1,\n  'DK': 1,\n  'HK': 1,\n  'EE': 1,\n  'EG': 1,\n  'PH': 1},\n 50: {'IN': 12,\n  'GB': 5,\n  'AE': 4,\n  'NL': 4,\n  'IL': 2,\n  'IT': 2,\n  'ID': 2,\n  'EE': 2,\n  'EG': 2,\n  'NZ': 2,\n  'PH': 2,\n  'DK': 2,\n  'ES': 2,\n  'IS': 1,\n  'FI': 1,\n  'HK': 1,\n  'CM': 1,\n  'CZ': 1,\n  'EC': 1,\n  'FR': 1},\n 100: {'IN': 24,\n  'ID': 7,\n  'AE': 7,\n  'NL': 7,\n  'GB': 6,\n  'EG': 5,\n  'IL': 4,\n  'PH': 4,\n  'IE': 4,\n  'FR': 4,\n  'DK': 3,\n  'HK': 3,\n  'ES': 3,\n  'IT': 2,\n  'NZ': 2,\n  'EE': 2,\n  'EC': 2,\n  'FI': 1,\n  'IS': 1,\n  'CZ': 1,\n  'CM': 1,\n  'CO': 1,\n  'KR': 1,\n  'GR': 1,\n  'AU': 1,\n  'JP': 1,\n  'SG': 1,\n  'DE': 1}}"
     },
     "execution_count": 6,
     "metadata": {},
     "output_type": "execute_result"
    }
   ],
   "source": [
    "top_orders = [10, 20, 50, 100]\n",
    "\n",
    "# Analyze the quality of movies by country\n",
    "country_counts, movies_df = quality_of_movies_by_country(basics, ratings, akas, top_orders)\n",
    "\n",
    "# Display country appearances in top N sequences\n",
    "country_counts"
   ],
   "metadata": {
    "collapsed": false,
    "ExecuteTime": {
     "end_time": "2024-07-07T07:57:42.558487Z",
     "start_time": "2024-07-07T07:57:19.514394Z"
    }
   },
   "id": "4862768c9e284183",
   "execution_count": 6
  },
  {
   "cell_type": "code",
   "outputs": [
    {
     "name": "stdout",
     "output_type": "stream",
     "text": [
      "(310812, 22)\n"
     ]
    },
    {
     "data": {
      "text/plain": "            tconst titleType                       primaryTitle  \\\n774848   tt0111161     movie           The Shawshank Redemption   \n1268319  tt0468569     movie                    The Dark Knight   \n1568611  tt1375666     movie                          Inception   \n876166   tt0137523     movie                         Fight Club   \n765487   tt0109830     movie                       Forrest Gump   \n...            ...       ...                                ...   \n427265   tt0066921     movie                 A Clockwork Orange   \n1353298  tt1010048     movie                Slumdog Millionaire   \n1708298  tt1663202     movie                       The Revenant   \n1450252  tt1160419     movie                               Dune   \n1330520  tt0903624     movie  The Hobbit: An Unexpected Journey   \n\n                             originalTitle isAdult startYear endYear  \\\n774848            The Shawshank Redemption       0      1994    <NA>   \n1268319                    The Dark Knight       0      2008    <NA>   \n1568611                          Inception       0      2010    <NA>   \n876166                          Fight Club       0      1999    <NA>   \n765487                        Forrest Gump       0      1994    <NA>   \n...                                    ...     ...       ...     ...   \n427265                  A Clockwork Orange       0      1971    <NA>   \n1353298                Slumdog Millionaire       0      2008    <NA>   \n1708298                       The Revenant       0      2015    <NA>   \n1450252                               Dune       0      2021    <NA>   \n1330520  The Hobbit: An Unexpected Journey       0      2012    <NA>   \n\n        runtimeMinutes                   genres  averageRating  ...  ordering  \\\n774848             142                    Drama            9.3  ...         1   \n1268319            152       Action,Crime,Drama            9.0  ...         1   \n1568611            148  Action,Adventure,Sci-Fi            8.8  ...         1   \n876166             139                    Drama            8.8  ...         1   \n765487             142            Drama,Romance            8.8  ...         1   \n...                ...                      ...            ...  ...       ...   \n427265             136             Crime,Sci-Fi            8.3  ...         1   \n1353298            120      Crime,Drama,Romance            8.0  ...         1   \n1708298            156   Action,Adventure,Drama            8.0  ...         1   \n1450252            155   Action,Adventure,Drama            8.0  ...         1   \n1330520            169        Adventure,Fantasy            7.8  ...         1   \n\n                                     title  region language     types  \\\n774848            The Shawshank Redemption    <NA>     <NA>  original   \n1268319                    The Dark Knight    <NA>     <NA>  original   \n1568611                          Inception    <NA>     <NA>  original   \n876166                          Fight Club    <NA>     <NA>  original   \n765487                        Forrest Gump    <NA>     <NA>  original   \n...                                    ...     ...      ...       ...   \n427265                  A Clockwork Orange    <NA>     <NA>  original   \n1353298                Slumdog Millionaire    <NA>     <NA>  original   \n1708298                       The Revenant    <NA>     <NA>  original   \n1450252                               Dune    <NA>     <NA>  original   \n1330520  The Hobbit: An Unexpected Journey    <NA>     <NA>  original   \n\n        attributes isOriginalTitle  titleId_y  country composite_score  \n774848        <NA>               1  tt0111161       IS       871760.31  \n1268319       <NA>               1  tt0468569       ID       866137.50  \n1568611       <NA>               1  tt1375666       GB       769596.16  \n876166        <NA>               1  tt0137523       FI       701755.36  \n765487        <NA>               1  tt0109830       DK       681472.06  \n...            ...             ...        ...      ...             ...  \n427265        <NA>               1  tt0066921       NL       265386.71  \n1353298       <NA>               1  tt1010048       IN       264066.20  \n1708298       <NA>               1  tt1663202       IN       263716.70  \n1450252       <NA>               1  tt1160419       EG       263394.50  \n1330520       <NA>               1  tt0903624       IN       262950.96  \n\n[100 rows x 22 columns]",
      "text/html": "<div>\n<style scoped>\n    .dataframe tbody tr th:only-of-type {\n        vertical-align: middle;\n    }\n\n    .dataframe tbody tr th {\n        vertical-align: top;\n    }\n\n    .dataframe thead th {\n        text-align: right;\n    }\n</style>\n<table border=\"1\" class=\"dataframe\">\n  <thead>\n    <tr style=\"text-align: right;\">\n      <th></th>\n      <th>tconst</th>\n      <th>titleType</th>\n      <th>primaryTitle</th>\n      <th>originalTitle</th>\n      <th>isAdult</th>\n      <th>startYear</th>\n      <th>endYear</th>\n      <th>runtimeMinutes</th>\n      <th>genres</th>\n      <th>averageRating</th>\n      <th>...</th>\n      <th>ordering</th>\n      <th>title</th>\n      <th>region</th>\n      <th>language</th>\n      <th>types</th>\n      <th>attributes</th>\n      <th>isOriginalTitle</th>\n      <th>titleId_y</th>\n      <th>country</th>\n      <th>composite_score</th>\n    </tr>\n  </thead>\n  <tbody>\n    <tr>\n      <th>774848</th>\n      <td>tt0111161</td>\n      <td>movie</td>\n      <td>The Shawshank Redemption</td>\n      <td>The Shawshank Redemption</td>\n      <td>0</td>\n      <td>1994</td>\n      <td>&lt;NA&gt;</td>\n      <td>142</td>\n      <td>Drama</td>\n      <td>9.3</td>\n      <td>...</td>\n      <td>1</td>\n      <td>The Shawshank Redemption</td>\n      <td>&lt;NA&gt;</td>\n      <td>&lt;NA&gt;</td>\n      <td>original</td>\n      <td>&lt;NA&gt;</td>\n      <td>1</td>\n      <td>tt0111161</td>\n      <td>IS</td>\n      <td>871760.31</td>\n    </tr>\n    <tr>\n      <th>1268319</th>\n      <td>tt0468569</td>\n      <td>movie</td>\n      <td>The Dark Knight</td>\n      <td>The Dark Knight</td>\n      <td>0</td>\n      <td>2008</td>\n      <td>&lt;NA&gt;</td>\n      <td>152</td>\n      <td>Action,Crime,Drama</td>\n      <td>9.0</td>\n      <td>...</td>\n      <td>1</td>\n      <td>The Dark Knight</td>\n      <td>&lt;NA&gt;</td>\n      <td>&lt;NA&gt;</td>\n      <td>original</td>\n      <td>&lt;NA&gt;</td>\n      <td>1</td>\n      <td>tt0468569</td>\n      <td>ID</td>\n      <td>866137.50</td>\n    </tr>\n    <tr>\n      <th>1568611</th>\n      <td>tt1375666</td>\n      <td>movie</td>\n      <td>Inception</td>\n      <td>Inception</td>\n      <td>0</td>\n      <td>2010</td>\n      <td>&lt;NA&gt;</td>\n      <td>148</td>\n      <td>Action,Adventure,Sci-Fi</td>\n      <td>8.8</td>\n      <td>...</td>\n      <td>1</td>\n      <td>Inception</td>\n      <td>&lt;NA&gt;</td>\n      <td>&lt;NA&gt;</td>\n      <td>original</td>\n      <td>&lt;NA&gt;</td>\n      <td>1</td>\n      <td>tt1375666</td>\n      <td>GB</td>\n      <td>769596.16</td>\n    </tr>\n    <tr>\n      <th>876166</th>\n      <td>tt0137523</td>\n      <td>movie</td>\n      <td>Fight Club</td>\n      <td>Fight Club</td>\n      <td>0</td>\n      <td>1999</td>\n      <td>&lt;NA&gt;</td>\n      <td>139</td>\n      <td>Drama</td>\n      <td>8.8</td>\n      <td>...</td>\n      <td>1</td>\n      <td>Fight Club</td>\n      <td>&lt;NA&gt;</td>\n      <td>&lt;NA&gt;</td>\n      <td>original</td>\n      <td>&lt;NA&gt;</td>\n      <td>1</td>\n      <td>tt0137523</td>\n      <td>FI</td>\n      <td>701755.36</td>\n    </tr>\n    <tr>\n      <th>765487</th>\n      <td>tt0109830</td>\n      <td>movie</td>\n      <td>Forrest Gump</td>\n      <td>Forrest Gump</td>\n      <td>0</td>\n      <td>1994</td>\n      <td>&lt;NA&gt;</td>\n      <td>142</td>\n      <td>Drama,Romance</td>\n      <td>8.8</td>\n      <td>...</td>\n      <td>1</td>\n      <td>Forrest Gump</td>\n      <td>&lt;NA&gt;</td>\n      <td>&lt;NA&gt;</td>\n      <td>original</td>\n      <td>&lt;NA&gt;</td>\n      <td>1</td>\n      <td>tt0109830</td>\n      <td>DK</td>\n      <td>681472.06</td>\n    </tr>\n    <tr>\n      <th>...</th>\n      <td>...</td>\n      <td>...</td>\n      <td>...</td>\n      <td>...</td>\n      <td>...</td>\n      <td>...</td>\n      <td>...</td>\n      <td>...</td>\n      <td>...</td>\n      <td>...</td>\n      <td>...</td>\n      <td>...</td>\n      <td>...</td>\n      <td>...</td>\n      <td>...</td>\n      <td>...</td>\n      <td>...</td>\n      <td>...</td>\n      <td>...</td>\n      <td>...</td>\n      <td>...</td>\n    </tr>\n    <tr>\n      <th>427265</th>\n      <td>tt0066921</td>\n      <td>movie</td>\n      <td>A Clockwork Orange</td>\n      <td>A Clockwork Orange</td>\n      <td>0</td>\n      <td>1971</td>\n      <td>&lt;NA&gt;</td>\n      <td>136</td>\n      <td>Crime,Sci-Fi</td>\n      <td>8.3</td>\n      <td>...</td>\n      <td>1</td>\n      <td>A Clockwork Orange</td>\n      <td>&lt;NA&gt;</td>\n      <td>&lt;NA&gt;</td>\n      <td>original</td>\n      <td>&lt;NA&gt;</td>\n      <td>1</td>\n      <td>tt0066921</td>\n      <td>NL</td>\n      <td>265386.71</td>\n    </tr>\n    <tr>\n      <th>1353298</th>\n      <td>tt1010048</td>\n      <td>movie</td>\n      <td>Slumdog Millionaire</td>\n      <td>Slumdog Millionaire</td>\n      <td>0</td>\n      <td>2008</td>\n      <td>&lt;NA&gt;</td>\n      <td>120</td>\n      <td>Crime,Drama,Romance</td>\n      <td>8.0</td>\n      <td>...</td>\n      <td>1</td>\n      <td>Slumdog Millionaire</td>\n      <td>&lt;NA&gt;</td>\n      <td>&lt;NA&gt;</td>\n      <td>original</td>\n      <td>&lt;NA&gt;</td>\n      <td>1</td>\n      <td>tt1010048</td>\n      <td>IN</td>\n      <td>264066.20</td>\n    </tr>\n    <tr>\n      <th>1708298</th>\n      <td>tt1663202</td>\n      <td>movie</td>\n      <td>The Revenant</td>\n      <td>The Revenant</td>\n      <td>0</td>\n      <td>2015</td>\n      <td>&lt;NA&gt;</td>\n      <td>156</td>\n      <td>Action,Adventure,Drama</td>\n      <td>8.0</td>\n      <td>...</td>\n      <td>1</td>\n      <td>The Revenant</td>\n      <td>&lt;NA&gt;</td>\n      <td>&lt;NA&gt;</td>\n      <td>original</td>\n      <td>&lt;NA&gt;</td>\n      <td>1</td>\n      <td>tt1663202</td>\n      <td>IN</td>\n      <td>263716.70</td>\n    </tr>\n    <tr>\n      <th>1450252</th>\n      <td>tt1160419</td>\n      <td>movie</td>\n      <td>Dune</td>\n      <td>Dune</td>\n      <td>0</td>\n      <td>2021</td>\n      <td>&lt;NA&gt;</td>\n      <td>155</td>\n      <td>Action,Adventure,Drama</td>\n      <td>8.0</td>\n      <td>...</td>\n      <td>1</td>\n      <td>Dune</td>\n      <td>&lt;NA&gt;</td>\n      <td>&lt;NA&gt;</td>\n      <td>original</td>\n      <td>&lt;NA&gt;</td>\n      <td>1</td>\n      <td>tt1160419</td>\n      <td>EG</td>\n      <td>263394.50</td>\n    </tr>\n    <tr>\n      <th>1330520</th>\n      <td>tt0903624</td>\n      <td>movie</td>\n      <td>The Hobbit: An Unexpected Journey</td>\n      <td>The Hobbit: An Unexpected Journey</td>\n      <td>0</td>\n      <td>2012</td>\n      <td>&lt;NA&gt;</td>\n      <td>169</td>\n      <td>Adventure,Fantasy</td>\n      <td>7.8</td>\n      <td>...</td>\n      <td>1</td>\n      <td>The Hobbit: An Unexpected Journey</td>\n      <td>&lt;NA&gt;</td>\n      <td>&lt;NA&gt;</td>\n      <td>original</td>\n      <td>&lt;NA&gt;</td>\n      <td>1</td>\n      <td>tt0903624</td>\n      <td>IN</td>\n      <td>262950.96</td>\n    </tr>\n  </tbody>\n</table>\n<p>100 rows × 22 columns</p>\n</div>"
     },
     "execution_count": 7,
     "metadata": {},
     "output_type": "execute_result"
    }
   ],
   "source": [
    "print(movies_df.shape)\n",
    "movies_df.head(100)"
   ],
   "metadata": {
    "collapsed": false,
    "ExecuteTime": {
     "end_time": "2024-07-07T07:57:42.576534Z",
     "start_time": "2024-07-07T07:57:42.559504Z"
    }
   },
   "id": "ca81fdfdf33542b0",
   "execution_count": 7
  },
  {
   "cell_type": "markdown",
   "source": [
    "# Task 2"
   ],
   "metadata": {
    "collapsed": false
   },
   "id": "9f58b39b2862b4f5"
  },
  {
   "cell_type": "code",
   "outputs": [
    {
     "data": {
      "text/plain": "country\nIN    206215661\nAU     94268154\nGB     84405730\nID     58336390\nNL     48650006\n        ...    \nBW           10\nSC            9\nGM            8\nKM            8\nLY            8\nName: numVotes, Length: 217, dtype: int64"
     },
     "execution_count": 8,
     "metadata": {},
     "output_type": "execute_result"
    }
   ],
   "source": [
    "total_votes_by_country(movies_df)"
   ],
   "metadata": {
    "collapsed": false,
    "ExecuteTime": {
     "end_time": "2024-07-07T07:57:42.601318Z",
     "start_time": "2024-07-07T07:57:42.577546Z"
    }
   },
   "id": "c9db05d8ef33a497",
   "execution_count": 8
  },
  {
   "cell_type": "code",
   "outputs": [],
   "source": [],
   "metadata": {
    "collapsed": false,
    "ExecuteTime": {
     "end_time": "2024-07-07T07:57:42.604208Z",
     "start_time": "2024-07-07T07:57:42.602327Z"
    }
   },
   "id": "8cc7547d5fcc4eb6",
   "execution_count": 8
  },
  {
   "cell_type": "code",
   "outputs": [],
   "source": [],
   "metadata": {
    "collapsed": false,
    "ExecuteTime": {
     "end_time": "2024-07-07T07:57:42.607056Z",
     "start_time": "2024-07-07T07:57:42.605220Z"
    }
   },
   "id": "16059058c7392c7b",
   "execution_count": 8
  },
  {
   "cell_type": "code",
   "outputs": [],
   "source": [],
   "metadata": {
    "collapsed": false,
    "ExecuteTime": {
     "end_time": "2024-07-07T07:57:42.609850Z",
     "start_time": "2024-07-07T07:57:42.608063Z"
    }
   },
   "id": "42613038279e8720",
   "execution_count": 8
  }
 ],
 "metadata": {
  "kernelspec": {
   "display_name": "Python 3",
   "language": "python",
   "name": "python3"
  },
  "language_info": {
   "codemirror_mode": {
    "name": "ipython",
    "version": 2
   },
   "file_extension": ".py",
   "mimetype": "text/x-python",
   "name": "python",
   "nbconvert_exporter": "python",
   "pygments_lexer": "ipython2",
   "version": "2.7.6"
  }
 },
 "nbformat": 4,
 "nbformat_minor": 5
}
