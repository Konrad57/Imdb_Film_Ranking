{
 "cells": [
  {
   "cell_type": "markdown",
   "source": [
    "# Imports"
   ],
   "metadata": {
    "collapsed": false
   },
   "id": "a7480c2bbdd65fab"
  },
  {
   "cell_type": "code",
   "execution_count": 1,
   "id": "initial_id",
   "metadata": {
    "collapsed": true,
    "ExecuteTime": {
     "end_time": "2024-06-26T21:54:47.541319Z",
     "start_time": "2024-06-26T21:54:47.040038Z"
    }
   },
   "outputs": [],
   "source": [
    "import numpy as np\n",
    "import pandas as pd\n",
    "#import matplotlib.pyplot as plt\n",
    "#import seaborn as sns\n",
    "from functions import load_and_clean_all_data, quality_of_movies_by_country"
   ]
  },
  {
   "cell_type": "markdown",
   "source": [
    "# Data loading"
   ],
   "metadata": {
    "collapsed": false
   },
   "id": "c60614fb6200f6ea"
  },
  {
   "cell_type": "code",
   "outputs": [
    {
     "name": "stdout",
     "output_type": "stream",
     "text": [
      "Loading data_imdb\\title.basics.tsv...\n",
      "Loading data_imdb\\title.akas.tsv...\n",
      "Loading data_imdb\\title.ratings.tsv...\n",
      "Sample data from basics:\n"
     ]
    },
    {
     "data": {
      "text/plain": "      tconst titleType            primaryTitle           originalTitle  \\\n0  tt0000001     short              Carmencita              Carmencita   \n1  tt0000002     short  Le clown et ses chiens  Le clown et ses chiens   \n2  tt0000003     short          Pauvre Pierrot          Pauvre Pierrot   \n3  tt0000004     short             Un bon bock             Un bon bock   \n4  tt0000005     short        Blacksmith Scene        Blacksmith Scene   \n\n  isAdult startYear endYear runtimeMinutes                    genres  \n0       0      1894    <NA>              1         Documentary,Short  \n1       0      1892    <NA>              5           Animation,Short  \n2       0      1892    <NA>              5  Animation,Comedy,Romance  \n3       0      1892    <NA>             12           Animation,Short  \n4       0      1893    <NA>              1              Comedy,Short  ",
      "text/html": "<div>\n<style scoped>\n    .dataframe tbody tr th:only-of-type {\n        vertical-align: middle;\n    }\n\n    .dataframe tbody tr th {\n        vertical-align: top;\n    }\n\n    .dataframe thead th {\n        text-align: right;\n    }\n</style>\n<table border=\"1\" class=\"dataframe\">\n  <thead>\n    <tr style=\"text-align: right;\">\n      <th></th>\n      <th>tconst</th>\n      <th>titleType</th>\n      <th>primaryTitle</th>\n      <th>originalTitle</th>\n      <th>isAdult</th>\n      <th>startYear</th>\n      <th>endYear</th>\n      <th>runtimeMinutes</th>\n      <th>genres</th>\n    </tr>\n  </thead>\n  <tbody>\n    <tr>\n      <th>0</th>\n      <td>tt0000001</td>\n      <td>short</td>\n      <td>Carmencita</td>\n      <td>Carmencita</td>\n      <td>0</td>\n      <td>1894</td>\n      <td>&lt;NA&gt;</td>\n      <td>1</td>\n      <td>Documentary,Short</td>\n    </tr>\n    <tr>\n      <th>1</th>\n      <td>tt0000002</td>\n      <td>short</td>\n      <td>Le clown et ses chiens</td>\n      <td>Le clown et ses chiens</td>\n      <td>0</td>\n      <td>1892</td>\n      <td>&lt;NA&gt;</td>\n      <td>5</td>\n      <td>Animation,Short</td>\n    </tr>\n    <tr>\n      <th>2</th>\n      <td>tt0000003</td>\n      <td>short</td>\n      <td>Pauvre Pierrot</td>\n      <td>Pauvre Pierrot</td>\n      <td>0</td>\n      <td>1892</td>\n      <td>&lt;NA&gt;</td>\n      <td>5</td>\n      <td>Animation,Comedy,Romance</td>\n    </tr>\n    <tr>\n      <th>3</th>\n      <td>tt0000004</td>\n      <td>short</td>\n      <td>Un bon bock</td>\n      <td>Un bon bock</td>\n      <td>0</td>\n      <td>1892</td>\n      <td>&lt;NA&gt;</td>\n      <td>12</td>\n      <td>Animation,Short</td>\n    </tr>\n    <tr>\n      <th>4</th>\n      <td>tt0000005</td>\n      <td>short</td>\n      <td>Blacksmith Scene</td>\n      <td>Blacksmith Scene</td>\n      <td>0</td>\n      <td>1893</td>\n      <td>&lt;NA&gt;</td>\n      <td>1</td>\n      <td>Comedy,Short</td>\n    </tr>\n  </tbody>\n</table>\n</div>"
     },
     "metadata": {},
     "output_type": "display_data"
    },
    {
     "name": "stdout",
     "output_type": "stream",
     "text": [
      "Sample data from akas:\n"
     ]
    },
    {
     "data": {
      "text/plain": "     titleId  ordering                      title region language  \\\n0  tt0000001         1                 Carmencita   <NA>     <NA>   \n1  tt0000001         2                 Carmencita     DE     <NA>   \n2  tt0000001         3                 Carmencita     US     <NA>   \n3  tt0000001         4  Carmencita - spanyol tánc     HU     <NA>   \n4  tt0000001         5                 Καρμενσίτα     GR     <NA>   \n\n         types     attributes  isOriginalTitle  \n0     original           <NA>                1  \n1         <NA>  literal title                0  \n2  imdbDisplay           <NA>                0  \n3  imdbDisplay           <NA>                0  \n4  imdbDisplay           <NA>                0  ",
      "text/html": "<div>\n<style scoped>\n    .dataframe tbody tr th:only-of-type {\n        vertical-align: middle;\n    }\n\n    .dataframe tbody tr th {\n        vertical-align: top;\n    }\n\n    .dataframe thead th {\n        text-align: right;\n    }\n</style>\n<table border=\"1\" class=\"dataframe\">\n  <thead>\n    <tr style=\"text-align: right;\">\n      <th></th>\n      <th>titleId</th>\n      <th>ordering</th>\n      <th>title</th>\n      <th>region</th>\n      <th>language</th>\n      <th>types</th>\n      <th>attributes</th>\n      <th>isOriginalTitle</th>\n    </tr>\n  </thead>\n  <tbody>\n    <tr>\n      <th>0</th>\n      <td>tt0000001</td>\n      <td>1</td>\n      <td>Carmencita</td>\n      <td>&lt;NA&gt;</td>\n      <td>&lt;NA&gt;</td>\n      <td>original</td>\n      <td>&lt;NA&gt;</td>\n      <td>1</td>\n    </tr>\n    <tr>\n      <th>1</th>\n      <td>tt0000001</td>\n      <td>2</td>\n      <td>Carmencita</td>\n      <td>DE</td>\n      <td>&lt;NA&gt;</td>\n      <td>&lt;NA&gt;</td>\n      <td>literal title</td>\n      <td>0</td>\n    </tr>\n    <tr>\n      <th>2</th>\n      <td>tt0000001</td>\n      <td>3</td>\n      <td>Carmencita</td>\n      <td>US</td>\n      <td>&lt;NA&gt;</td>\n      <td>imdbDisplay</td>\n      <td>&lt;NA&gt;</td>\n      <td>0</td>\n    </tr>\n    <tr>\n      <th>3</th>\n      <td>tt0000001</td>\n      <td>4</td>\n      <td>Carmencita - spanyol tánc</td>\n      <td>HU</td>\n      <td>&lt;NA&gt;</td>\n      <td>imdbDisplay</td>\n      <td>&lt;NA&gt;</td>\n      <td>0</td>\n    </tr>\n    <tr>\n      <th>4</th>\n      <td>tt0000001</td>\n      <td>5</td>\n      <td>Καρμενσίτα</td>\n      <td>GR</td>\n      <td>&lt;NA&gt;</td>\n      <td>imdbDisplay</td>\n      <td>&lt;NA&gt;</td>\n      <td>0</td>\n    </tr>\n  </tbody>\n</table>\n</div>"
     },
     "metadata": {},
     "output_type": "display_data"
    },
    {
     "name": "stdout",
     "output_type": "stream",
     "text": [
      "Sample data from ratings:\n"
     ]
    },
    {
     "data": {
      "text/plain": "      tconst  averageRating  numVotes\n0  tt0000001            5.7      2058\n1  tt0000002            5.7       276\n2  tt0000003            6.5      2022\n3  tt0000004            5.4       179\n4  tt0000005            6.2      2787",
      "text/html": "<div>\n<style scoped>\n    .dataframe tbody tr th:only-of-type {\n        vertical-align: middle;\n    }\n\n    .dataframe tbody tr th {\n        vertical-align: top;\n    }\n\n    .dataframe thead th {\n        text-align: right;\n    }\n</style>\n<table border=\"1\" class=\"dataframe\">\n  <thead>\n    <tr style=\"text-align: right;\">\n      <th></th>\n      <th>tconst</th>\n      <th>averageRating</th>\n      <th>numVotes</th>\n    </tr>\n  </thead>\n  <tbody>\n    <tr>\n      <th>0</th>\n      <td>tt0000001</td>\n      <td>5.7</td>\n      <td>2058</td>\n    </tr>\n    <tr>\n      <th>1</th>\n      <td>tt0000002</td>\n      <td>5.7</td>\n      <td>276</td>\n    </tr>\n    <tr>\n      <th>2</th>\n      <td>tt0000003</td>\n      <td>6.5</td>\n      <td>2022</td>\n    </tr>\n    <tr>\n      <th>3</th>\n      <td>tt0000004</td>\n      <td>5.4</td>\n      <td>179</td>\n    </tr>\n    <tr>\n      <th>4</th>\n      <td>tt0000005</td>\n      <td>6.2</td>\n      <td>2787</td>\n    </tr>\n  </tbody>\n</table>\n</div>"
     },
     "metadata": {},
     "output_type": "display_data"
    }
   ],
   "source": [
    "# Define the data directory and output directory\n",
    "data_dir = 'data_imdb'\n",
    "output_dir = 'cleaned_data'\n",
    "\n",
    "# Load and clean the data\n",
    "data = load_and_clean_all_data(data_dir)\n",
    "\n",
    "# Display a sample of the datasets\n",
    "for key, df in data.items():\n",
    "    print(f\"Sample data from {key}:\")\n",
    "    display(df.head())\n"
   ],
   "metadata": {
    "collapsed": false,
    "ExecuteTime": {
     "end_time": "2024-06-26T21:56:53.034745Z",
     "start_time": "2024-06-26T21:54:47.542325Z"
    }
   },
   "id": "5b68c5268a3f296a",
   "execution_count": 2
  },
  {
   "cell_type": "markdown",
   "source": [
    "# Task 1 - Quality of movies by country"
   ],
   "metadata": {
    "collapsed": false
   },
   "id": "80a2488566c69ac5"
  },
  {
   "cell_type": "code",
   "outputs": [
    {
     "name": "stdout",
     "output_type": "stream",
     "text": [
      "Merged dataset size: (5677726, 19)\n",
      "Filtered dataset size: (2424746, 19)\n",
      "Size of movies_df after country assignment: (310812, 21)\n",
      "            tconst              primaryTitle             originalTitle  \\\n",
      "774848   tt0111161  The Shawshank Redemption  The Shawshank Redemption   \n",
      "1268319  tt0468569           The Dark Knight           The Dark Knight   \n",
      "1568611  tt1375666                 Inception                 Inception   \n",
      "876166   tt0137523                Fight Club                Fight Club   \n",
      "765487   tt0109830              Forrest Gump              Forrest Gump   \n",
      "\n",
      "         averageRating country  composite_score  \n",
      "774848             9.3      IS        871760.31  \n",
      "1268319            9.0      ID        866137.50  \n",
      "1568611            8.8      GB        769596.16  \n",
      "876166             8.8      FI        701755.36  \n",
      "765487             8.8      DK        681472.06  \n",
      "{10: {'FI': 2, 'GB': 2, 'ID': 1, 'IS': 1, 'DK': 1, 'EE': 1, 'HK': 1, 'NZ': 1}, 20: {'IN': 4, 'GB': 3, 'FI': 2, 'ID': 2, 'NZ': 2, 'IS': 1, 'EE': 1, 'DK': 1, 'HK': 1, 'IT': 1, 'EG': 1, 'PH': 1}, 50: {'IN': 12, 'GB': 5, 'NL': 4, 'IT': 3, 'DK': 2, 'ID': 2, 'EG': 2, 'EE': 2, 'FI': 2, 'NZ': 2, 'ES': 2, 'IL': 2, 'IS': 1, 'HK': 1, 'UY': 1, 'PH': 1, 'CL': 1, 'CM': 1, 'CZ': 1, 'JP': 1, 'EC': 1, 'FR': 1}, 100: {'IN': 24, 'NL': 7, 'ID': 7, 'GB': 6, 'EG': 5, 'IL': 4, 'DK': 4, 'IE': 4, 'FR': 4, 'PH': 3, 'IT': 3, 'FI': 3, 'ES': 3, 'HK': 3, 'NZ': 2, 'EE': 2, 'JP': 2, 'UY': 1, 'IS': 1, 'CZ': 1, 'CM': 1, 'EC': 1, 'CL': 1, 'CO': 1, 'KR': 1, 'GR': 1, 'AR': 1, 'SE': 1, 'CH': 1, 'SG': 1, 'DE': 1}}\n"
     ]
    },
    {
     "data": {
      "text/plain": "{10: {'FI': 2, 'GB': 2, 'ID': 1, 'IS': 1, 'DK': 1, 'EE': 1, 'HK': 1, 'NZ': 1},\n 20: {'IN': 4,\n  'GB': 3,\n  'FI': 2,\n  'ID': 2,\n  'NZ': 2,\n  'IS': 1,\n  'EE': 1,\n  'DK': 1,\n  'HK': 1,\n  'IT': 1,\n  'EG': 1,\n  'PH': 1},\n 50: {'IN': 12,\n  'GB': 5,\n  'NL': 4,\n  'IT': 3,\n  'DK': 2,\n  'ID': 2,\n  'EG': 2,\n  'EE': 2,\n  'FI': 2,\n  'NZ': 2,\n  'ES': 2,\n  'IL': 2,\n  'IS': 1,\n  'HK': 1,\n  'UY': 1,\n  'PH': 1,\n  'CL': 1,\n  'CM': 1,\n  'CZ': 1,\n  'JP': 1,\n  'EC': 1,\n  'FR': 1},\n 100: {'IN': 24,\n  'NL': 7,\n  'ID': 7,\n  'GB': 6,\n  'EG': 5,\n  'IL': 4,\n  'DK': 4,\n  'IE': 4,\n  'FR': 4,\n  'PH': 3,\n  'IT': 3,\n  'FI': 3,\n  'ES': 3,\n  'HK': 3,\n  'NZ': 2,\n  'EE': 2,\n  'JP': 2,\n  'UY': 1,\n  'IS': 1,\n  'CZ': 1,\n  'CM': 1,\n  'EC': 1,\n  'CL': 1,\n  'CO': 1,\n  'KR': 1,\n  'GR': 1,\n  'AR': 1,\n  'SE': 1,\n  'CH': 1,\n  'SG': 1,\n  'DE': 1}}"
     },
     "execution_count": 3,
     "metadata": {},
     "output_type": "execute_result"
    }
   ],
   "source": [
    "top_orders = [10, 20, 50, 100]\n",
    "\n",
    "# Analyze the quality of movies by country\n",
    "country_counts = quality_of_movies_by_country(data, top_orders)\n",
    "\n",
    "# Display country appearances in top N sequences\n",
    "print(country_counts)\n",
    "country_counts"
   ],
   "metadata": {
    "collapsed": false,
    "ExecuteTime": {
     "end_time": "2024-06-26T21:57:33.505684Z",
     "start_time": "2024-06-26T21:56:53.040751Z"
    }
   },
   "id": "4862768c9e284183",
   "execution_count": 3
  },
  {
   "cell_type": "code",
   "outputs": [],
   "source": [
    "def get_movie_country(title_akas):\n",
    "    \"\"\"\n",
    "    Establish the country of origin for each movie, ensuring rows with isOriginalTitle = 1 have a region code.\n",
    "    \n",
    "    Parameters:\n",
    "    title_akas (pd.DataFrame): DataFrame containing title.akas data.\n",
    "    \n",
    "    Returns:\n",
    "    pd.DataFrame: DataFrame with columns ['titleId', 'country'].\n",
    "    \"\"\"\n",
    "    # Filter to original titles\n",
    "    original_titles = title_akas[title_akas['isOriginalTitle'] == 1][['titleId', 'region', 'isOriginalTitle']]\n",
    "    print(original_titles.head())\n",
    "    # Find missing regions\n",
    "    missing_regions = original_titles['region'].isna()\n",
    "    print(missing_regions.head())\n",
    "    \n",
    "    # Fill missing regions by looking at other rows with the same titleId\n",
    "    if missing_regions.any():\n",
    "        # Create a DataFrame with titleId and non-missing region\n",
    "        non_missing_regions = title_akas[['titleId', 'region']].dropna().drop_duplicates('titleId')\n",
    "        \n",
    "        # Merge to fill missing regions in original titles\n",
    "        original_titles = original_titles.merge(non_missing_regions, on='titleId', how='left', suffixes=('', '_fill'))\n",
    "        \n",
    "        # Use the filled regions where necessary\n",
    "        original_titles['region'] = original_titles['region'].combine_first(original_titles['region_fill'])\n",
    "        \n",
    "        # Drop the temporary fill column\n",
    "        original_titles.drop(columns=['region_fill'], inplace=True)\n",
    "    \n",
    "    # Filter out rows with missing regions\n",
    "    original_titles = original_titles.dropna(subset=['region'])\n",
    "    \n",
    "    # Rename 'region' column to 'country'\n",
    "    original_titles.rename(columns={'region': 'country'}, inplace=True)\n",
    "    \n",
    "    return original_titles[['titleId', 'country']]\n"
   ],
   "metadata": {
    "collapsed": false,
    "ExecuteTime": {
     "end_time": "2024-06-26T21:57:33.519982Z",
     "start_time": "2024-06-26T21:57:33.510690Z"
    }
   },
   "id": "3670dbe306282c08",
   "execution_count": 4
  },
  {
   "cell_type": "code",
   "outputs": [],
   "source": [],
   "metadata": {
    "collapsed": false,
    "ExecuteTime": {
     "end_time": "2024-06-26T21:57:33.524291Z",
     "start_time": "2024-06-26T21:57:33.520988Z"
    }
   },
   "id": "236da03fbfa3183",
   "execution_count": 4
  },
  {
   "cell_type": "code",
   "outputs": [],
   "source": [],
   "metadata": {
    "collapsed": false,
    "ExecuteTime": {
     "end_time": "2024-06-26T21:57:33.527708Z",
     "start_time": "2024-06-26T21:57:33.525299Z"
    }
   },
   "id": "21a65242e459044c",
   "execution_count": 4
  },
  {
   "cell_type": "code",
   "outputs": [],
   "source": [],
   "metadata": {
    "collapsed": false,
    "ExecuteTime": {
     "end_time": "2024-06-26T21:57:33.530451Z",
     "start_time": "2024-06-26T21:57:33.527708Z"
    }
   },
   "id": "4b41a537013c7a8c",
   "execution_count": 4
  },
  {
   "cell_type": "code",
   "outputs": [],
   "source": [],
   "metadata": {
    "collapsed": false,
    "ExecuteTime": {
     "end_time": "2024-06-26T21:57:33.533403Z",
     "start_time": "2024-06-26T21:57:33.531459Z"
    }
   },
   "id": "4b48fcac8bb7fcdc",
   "execution_count": 4
  },
  {
   "cell_type": "code",
   "outputs": [],
   "source": [],
   "metadata": {
    "collapsed": false,
    "ExecuteTime": {
     "end_time": "2024-06-26T21:57:33.536136Z",
     "start_time": "2024-06-26T21:57:33.534414Z"
    }
   },
   "id": "ca81fdfdf33542b0",
   "execution_count": 4
  },
  {
   "cell_type": "code",
   "outputs": [],
   "source": [],
   "metadata": {
    "collapsed": false,
    "ExecuteTime": {
     "end_time": "2024-06-26T21:57:33.539866Z",
     "start_time": "2024-06-26T21:57:33.537149Z"
    }
   },
   "id": "42613038279e8720",
   "execution_count": 4
  }
 ],
 "metadata": {
  "kernelspec": {
   "display_name": "Python 3",
   "language": "python",
   "name": "python3"
  },
  "language_info": {
   "codemirror_mode": {
    "name": "ipython",
    "version": 2
   },
   "file_extension": ".py",
   "mimetype": "text/x-python",
   "name": "python",
   "nbconvert_exporter": "python",
   "pygments_lexer": "ipython2",
   "version": "2.7.6"
  }
 },
 "nbformat": 4,
 "nbformat_minor": 5
}
