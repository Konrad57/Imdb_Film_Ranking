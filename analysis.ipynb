{
 "cells": [
  {
   "cell_type": "markdown",
   "source": [
    "# Imports"
   ],
   "metadata": {
    "collapsed": false
   },
   "id": "a7480c2bbdd65fab"
  },
  {
   "cell_type": "code",
   "execution_count": 1,
   "id": "initial_id",
   "metadata": {
    "collapsed": true,
    "ExecuteTime": {
     "end_time": "2024-07-08T21:36:48.326051Z",
     "start_time": "2024-07-08T21:36:47.771854Z"
    }
   },
   "outputs": [],
   "source": [
    "import pandas as pd\n",
    "import os\n",
    "from functions.utilities import load_data, clean_data\n",
    "from functions.task1_functions import quality_of_movies_by_country\n",
    "from functions.task2_functions import total_votes_by_country, average_composite_score_by_country, weighted_average_composite_score_by_country, filter_countries_with_reference, get_countries_and_clean_orders, calculate_gdp_per_population, rename_and_add_rank, compute_hegemony\n",
    "from functions.task3_functions import prepare_movies_directors, rank_directors, custom_ranking"
   ]
  },
  {
   "cell_type": "markdown",
   "source": [
    "# Data loading"
   ],
   "metadata": {
    "collapsed": false
   },
   "id": "c60614fb6200f6ea"
  },
  {
   "cell_type": "code",
   "outputs": [
    {
     "name": "stdout",
     "output_type": "stream",
     "text": [
      "Loading data from: data_imdb\\title.basics.tsv ...\n",
      "Loading data from: data_imdb\\title.akas.tsv ...\n",
      "Loading data from: data_imdb\\title.ratings.tsv ...\n"
     ]
    }
   ],
   "source": [
    "# Define the data directory and output directory\n",
    "data_dir = 'data_imdb'\n",
    "output_dir = 'cleaned_data' # ??????\n",
    "\n",
    "# Load and clean the data\n",
    "basics = clean_data(load_data(os.path.join(data_dir, 'title.basics.tsv')))\n",
    "akas = clean_data(load_data(os.path.join(data_dir, 'title.akas.tsv')))\n",
    "ratings = clean_data(load_data(os.path.join(data_dir, 'title.ratings.tsv')))"
   ],
   "metadata": {
    "collapsed": false,
    "ExecuteTime": {
     "end_time": "2024-07-08T21:38:53.551337Z",
     "start_time": "2024-07-08T21:36:48.326566Z"
    }
   },
   "id": "fc383e285ed07494",
   "execution_count": 2
  },
  {
   "cell_type": "code",
   "outputs": [
    {
     "name": "stdout",
     "output_type": "stream",
     "text": [
      "Sample data from basics:\n"
     ]
    },
    {
     "data": {
      "text/plain": "      tconst titleType            primaryTitle           originalTitle  \\\n0  tt0000001     short              Carmencita              Carmencita   \n1  tt0000002     short  Le clown et ses chiens  Le clown et ses chiens   \n2  tt0000003     short          Pauvre Pierrot          Pauvre Pierrot   \n3  tt0000004     short             Un bon bock             Un bon bock   \n4  tt0000005     short        Blacksmith Scene        Blacksmith Scene   \n\n  isAdult startYear endYear runtimeMinutes                    genres  \n0       0      1894    <NA>              1         Documentary,Short  \n1       0      1892    <NA>              5           Animation,Short  \n2       0      1892    <NA>              5  Animation,Comedy,Romance  \n3       0      1892    <NA>             12           Animation,Short  \n4       0      1893    <NA>              1              Comedy,Short  ",
      "text/html": "<div>\n<style scoped>\n    .dataframe tbody tr th:only-of-type {\n        vertical-align: middle;\n    }\n\n    .dataframe tbody tr th {\n        vertical-align: top;\n    }\n\n    .dataframe thead th {\n        text-align: right;\n    }\n</style>\n<table border=\"1\" class=\"dataframe\">\n  <thead>\n    <tr style=\"text-align: right;\">\n      <th></th>\n      <th>tconst</th>\n      <th>titleType</th>\n      <th>primaryTitle</th>\n      <th>originalTitle</th>\n      <th>isAdult</th>\n      <th>startYear</th>\n      <th>endYear</th>\n      <th>runtimeMinutes</th>\n      <th>genres</th>\n    </tr>\n  </thead>\n  <tbody>\n    <tr>\n      <th>0</th>\n      <td>tt0000001</td>\n      <td>short</td>\n      <td>Carmencita</td>\n      <td>Carmencita</td>\n      <td>0</td>\n      <td>1894</td>\n      <td>&lt;NA&gt;</td>\n      <td>1</td>\n      <td>Documentary,Short</td>\n    </tr>\n    <tr>\n      <th>1</th>\n      <td>tt0000002</td>\n      <td>short</td>\n      <td>Le clown et ses chiens</td>\n      <td>Le clown et ses chiens</td>\n      <td>0</td>\n      <td>1892</td>\n      <td>&lt;NA&gt;</td>\n      <td>5</td>\n      <td>Animation,Short</td>\n    </tr>\n    <tr>\n      <th>2</th>\n      <td>tt0000003</td>\n      <td>short</td>\n      <td>Pauvre Pierrot</td>\n      <td>Pauvre Pierrot</td>\n      <td>0</td>\n      <td>1892</td>\n      <td>&lt;NA&gt;</td>\n      <td>5</td>\n      <td>Animation,Comedy,Romance</td>\n    </tr>\n    <tr>\n      <th>3</th>\n      <td>tt0000004</td>\n      <td>short</td>\n      <td>Un bon bock</td>\n      <td>Un bon bock</td>\n      <td>0</td>\n      <td>1892</td>\n      <td>&lt;NA&gt;</td>\n      <td>12</td>\n      <td>Animation,Short</td>\n    </tr>\n    <tr>\n      <th>4</th>\n      <td>tt0000005</td>\n      <td>short</td>\n      <td>Blacksmith Scene</td>\n      <td>Blacksmith Scene</td>\n      <td>0</td>\n      <td>1893</td>\n      <td>&lt;NA&gt;</td>\n      <td>1</td>\n      <td>Comedy,Short</td>\n    </tr>\n  </tbody>\n</table>\n</div>"
     },
     "execution_count": 3,
     "metadata": {},
     "output_type": "execute_result"
    }
   ],
   "source": [
    "print(\"Sample data from basics:\")\n",
    "basics.head()"
   ],
   "metadata": {
    "collapsed": false,
    "ExecuteTime": {
     "end_time": "2024-07-08T21:38:53.640985Z",
     "start_time": "2024-07-08T21:38:53.566536Z"
    }
   },
   "id": "bded94dad45d2681",
   "execution_count": 3
  },
  {
   "cell_type": "code",
   "outputs": [
    {
     "name": "stdout",
     "output_type": "stream",
     "text": [
      "Sample data from akas:\n"
     ]
    },
    {
     "data": {
      "text/plain": "     titleId  ordering                      title region language  \\\n0  tt0000001         1                 Carmencita   <NA>     <NA>   \n1  tt0000001         2                 Carmencita     DE     <NA>   \n2  tt0000001         3                 Carmencita     US     <NA>   \n3  tt0000001         4  Carmencita - spanyol tánc     HU     <NA>   \n4  tt0000001         5                 Καρμενσίτα     GR     <NA>   \n\n         types     attributes  isOriginalTitle  \n0     original           <NA>                1  \n1         <NA>  literal title                0  \n2  imdbDisplay           <NA>                0  \n3  imdbDisplay           <NA>                0  \n4  imdbDisplay           <NA>                0  ",
      "text/html": "<div>\n<style scoped>\n    .dataframe tbody tr th:only-of-type {\n        vertical-align: middle;\n    }\n\n    .dataframe tbody tr th {\n        vertical-align: top;\n    }\n\n    .dataframe thead th {\n        text-align: right;\n    }\n</style>\n<table border=\"1\" class=\"dataframe\">\n  <thead>\n    <tr style=\"text-align: right;\">\n      <th></th>\n      <th>titleId</th>\n      <th>ordering</th>\n      <th>title</th>\n      <th>region</th>\n      <th>language</th>\n      <th>types</th>\n      <th>attributes</th>\n      <th>isOriginalTitle</th>\n    </tr>\n  </thead>\n  <tbody>\n    <tr>\n      <th>0</th>\n      <td>tt0000001</td>\n      <td>1</td>\n      <td>Carmencita</td>\n      <td>&lt;NA&gt;</td>\n      <td>&lt;NA&gt;</td>\n      <td>original</td>\n      <td>&lt;NA&gt;</td>\n      <td>1</td>\n    </tr>\n    <tr>\n      <th>1</th>\n      <td>tt0000001</td>\n      <td>2</td>\n      <td>Carmencita</td>\n      <td>DE</td>\n      <td>&lt;NA&gt;</td>\n      <td>&lt;NA&gt;</td>\n      <td>literal title</td>\n      <td>0</td>\n    </tr>\n    <tr>\n      <th>2</th>\n      <td>tt0000001</td>\n      <td>3</td>\n      <td>Carmencita</td>\n      <td>US</td>\n      <td>&lt;NA&gt;</td>\n      <td>imdbDisplay</td>\n      <td>&lt;NA&gt;</td>\n      <td>0</td>\n    </tr>\n    <tr>\n      <th>3</th>\n      <td>tt0000001</td>\n      <td>4</td>\n      <td>Carmencita - spanyol tánc</td>\n      <td>HU</td>\n      <td>&lt;NA&gt;</td>\n      <td>imdbDisplay</td>\n      <td>&lt;NA&gt;</td>\n      <td>0</td>\n    </tr>\n    <tr>\n      <th>4</th>\n      <td>tt0000001</td>\n      <td>5</td>\n      <td>Καρμενσίτα</td>\n      <td>GR</td>\n      <td>&lt;NA&gt;</td>\n      <td>imdbDisplay</td>\n      <td>&lt;NA&gt;</td>\n      <td>0</td>\n    </tr>\n  </tbody>\n</table>\n</div>"
     },
     "execution_count": 4,
     "metadata": {},
     "output_type": "execute_result"
    }
   ],
   "source": [
    "print(\"Sample data from akas:\")\n",
    "akas.head()"
   ],
   "metadata": {
    "collapsed": false,
    "ExecuteTime": {
     "end_time": "2024-07-08T21:38:53.652006Z",
     "start_time": "2024-07-08T21:38:53.642992Z"
    }
   },
   "id": "78e17172baae6e93",
   "execution_count": 4
  },
  {
   "cell_type": "code",
   "outputs": [
    {
     "name": "stdout",
     "output_type": "stream",
     "text": [
      "Sample data from ratings:\n"
     ]
    },
    {
     "data": {
      "text/plain": "      tconst  averageRating  numVotes\n0  tt0000001            5.7      2058\n1  tt0000002            5.7       276\n2  tt0000003            6.5      2022\n3  tt0000004            5.4       179\n4  tt0000005            6.2      2787",
      "text/html": "<div>\n<style scoped>\n    .dataframe tbody tr th:only-of-type {\n        vertical-align: middle;\n    }\n\n    .dataframe tbody tr th {\n        vertical-align: top;\n    }\n\n    .dataframe thead th {\n        text-align: right;\n    }\n</style>\n<table border=\"1\" class=\"dataframe\">\n  <thead>\n    <tr style=\"text-align: right;\">\n      <th></th>\n      <th>tconst</th>\n      <th>averageRating</th>\n      <th>numVotes</th>\n    </tr>\n  </thead>\n  <tbody>\n    <tr>\n      <th>0</th>\n      <td>tt0000001</td>\n      <td>5.7</td>\n      <td>2058</td>\n    </tr>\n    <tr>\n      <th>1</th>\n      <td>tt0000002</td>\n      <td>5.7</td>\n      <td>276</td>\n    </tr>\n    <tr>\n      <th>2</th>\n      <td>tt0000003</td>\n      <td>6.5</td>\n      <td>2022</td>\n    </tr>\n    <tr>\n      <th>3</th>\n      <td>tt0000004</td>\n      <td>5.4</td>\n      <td>179</td>\n    </tr>\n    <tr>\n      <th>4</th>\n      <td>tt0000005</td>\n      <td>6.2</td>\n      <td>2787</td>\n    </tr>\n  </tbody>\n</table>\n</div>"
     },
     "execution_count": 5,
     "metadata": {},
     "output_type": "execute_result"
    }
   ],
   "source": [
    "print(\"Sample data from ratings:\")\n",
    "ratings.head()"
   ],
   "metadata": {
    "collapsed": false,
    "ExecuteTime": {
     "end_time": "2024-07-08T21:38:53.661581Z",
     "start_time": "2024-07-08T21:38:53.653013Z"
    }
   },
   "id": "f31aa6b5f2bbaf04",
   "execution_count": 5
  },
  {
   "cell_type": "markdown",
   "source": [
    "# Task 1 - Quality of movies by country"
   ],
   "metadata": {
    "collapsed": false
   },
   "id": "80a2488566c69ac5"
  },
  {
   "cell_type": "code",
   "outputs": [
    {
     "name": "stdout",
     "output_type": "stream",
     "text": [
      "There are 665 movies without an assigned country.\n"
     ]
    },
    {
     "data": {
      "text/plain": "{10: {'GB': 2,\n  'IS': 1,\n  'ID': 1,\n  'FI': 1,\n  'DK': 1,\n  'EE': 1,\n  'AE': 1,\n  'HK': 1,\n  'NZ': 1},\n 20: {'IN': 4,\n  'GB': 3,\n  'AE': 2,\n  'ID': 2,\n  'NZ': 2,\n  'IS': 1,\n  'FI': 1,\n  'DK': 1,\n  'HK': 1,\n  'EE': 1,\n  'EG': 1,\n  'PH': 1},\n 50: {'IN': 12,\n  'GB': 5,\n  'AE': 4,\n  'NL': 4,\n  'IL': 2,\n  'IT': 2,\n  'ID': 2,\n  'EE': 2,\n  'EG': 2,\n  'NZ': 2,\n  'PH': 2,\n  'DK': 2,\n  'ES': 2,\n  'IS': 1,\n  'FI': 1,\n  'HK': 1,\n  'CM': 1,\n  'CZ': 1,\n  'EC': 1,\n  'FR': 1},\n 100: {'IN': 24,\n  'ID': 7,\n  'AE': 7,\n  'NL': 7,\n  'GB': 6,\n  'EG': 5,\n  'IL': 4,\n  'PH': 4,\n  'IE': 4,\n  'FR': 4,\n  'DK': 3,\n  'HK': 3,\n  'ES': 3,\n  'IT': 2,\n  'NZ': 2,\n  'EE': 2,\n  'EC': 2,\n  'FI': 1,\n  'IS': 1,\n  'CZ': 1,\n  'CM': 1,\n  'CO': 1,\n  'KR': 1,\n  'GR': 1,\n  'AU': 1,\n  'JP': 1,\n  'SG': 1,\n  'DE': 1}}"
     },
     "execution_count": 6,
     "metadata": {},
     "output_type": "execute_result"
    }
   ],
   "source": [
    "top_orders = [10, 20, 50, 100]\n",
    "\n",
    "# Analyze the quality of movies by country\n",
    "country_counts, movies_df = quality_of_movies_by_country(basics, ratings, akas, top_orders)\n",
    "\n",
    "# Display country appearances in top N sequences\n",
    "country_counts"
   ],
   "metadata": {
    "collapsed": false,
    "ExecuteTime": {
     "end_time": "2024-07-08T21:39:17.950419Z",
     "start_time": "2024-07-08T21:38:53.662588Z"
    }
   },
   "id": "4862768c9e284183",
   "execution_count": 6
  },
  {
   "cell_type": "code",
   "outputs": [
    {
     "name": "stdout",
     "output_type": "stream",
     "text": [
      "(310812, 22)\n"
     ]
    },
    {
     "data": {
      "text/plain": "            tconst titleType  \\\n774848   tt0111161     movie   \n1268319  tt0468569     movie   \n1568611  tt1375666     movie   \n876166   tt0137523     movie   \n765487   tt0109830     movie   \n772965   tt0110912     movie   \n1310657  tt0816692     movie   \n868149   tt0133093     movie   \n444363   tt0068646     movie   \n838707   tt0120737     movie   \n925321   tt0167260     movie   \n1554320  tt1345836     movie   \n793622   tt0114369     movie   \n925393   tt0167261     movie   \n1762218  tt1853728     movie   \n933995   tt0172495     movie   \n1168926  tt0361748     movie   \n1346325  tt0993846     movie   \n1181768  tt0372784     movie   \n721744   tt0102926     movie   \n\n                                              primaryTitle  \\\n774848                            The Shawshank Redemption   \n1268319                                    The Dark Knight   \n1568611                                          Inception   \n876166                                          Fight Club   \n765487                                        Forrest Gump   \n772965                                        Pulp Fiction   \n1310657                                       Interstellar   \n868149                                          The Matrix   \n444363                                       The Godfather   \n838707   The Lord of the Rings: The Fellowship of the Ring   \n925321       The Lord of the Rings: The Return of the King   \n1554320                              The Dark Knight Rises   \n793622                                               Se7en   \n925393               The Lord of the Rings: The Two Towers   \n1762218                                   Django Unchained   \n933995                                           Gladiator   \n1168926                               Inglourious Basterds   \n1346325                            The Wolf of Wall Street   \n1181768                                      Batman Begins   \n721744                            The Silence of the Lambs   \n\n                                             originalTitle isAdult startYear  \\\n774848                            The Shawshank Redemption       0      1994   \n1268319                                    The Dark Knight       0      2008   \n1568611                                          Inception       0      2010   \n876166                                          Fight Club       0      1999   \n765487                                        Forrest Gump       0      1994   \n772965                                        Pulp Fiction       0      1994   \n1310657                                       Interstellar       0      2014   \n868149                                          The Matrix       0      1999   \n444363                                       The Godfather       0      1972   \n838707   The Lord of the Rings: The Fellowship of the Ring       0      2001   \n925321       The Lord of the Rings: The Return of the King       0      2003   \n1554320                              The Dark Knight Rises       0      2012   \n793622                                               Se7en       0      1995   \n925393               The Lord of the Rings: The Two Towers       0      2002   \n1762218                                   Django Unchained       0      2012   \n933995                                           Gladiator       0      2000   \n1168926                               Inglourious Basterds       0      2009   \n1346325                            The Wolf of Wall Street       0      2013   \n1181768                                      Batman Begins       0      2005   \n721744                            The Silence of the Lambs       0      1991   \n\n        endYear runtimeMinutes                   genres  averageRating  ...  \\\n774848     <NA>            142                    Drama            9.3  ...   \n1268319    <NA>            152       Action,Crime,Drama            9.0  ...   \n1568611    <NA>            148  Action,Adventure,Sci-Fi            8.8  ...   \n876166     <NA>            139                    Drama            8.8  ...   \n765487     <NA>            142            Drama,Romance            8.8  ...   \n772965     <NA>            154              Crime,Drama            8.9  ...   \n1310657    <NA>            169   Adventure,Drama,Sci-Fi            8.7  ...   \n868149     <NA>            136            Action,Sci-Fi            8.7  ...   \n444363     <NA>            175              Crime,Drama            9.2  ...   \n838707     <NA>            178   Action,Adventure,Drama            8.9  ...   \n925321     <NA>            201   Action,Adventure,Drama            9.0  ...   \n1554320    <NA>            164    Action,Drama,Thriller            8.4  ...   \n793622     <NA>            127      Crime,Drama,Mystery            8.6  ...   \n925393     <NA>            179   Action,Adventure,Drama            8.8  ...   \n1762218    <NA>            165     Comedy,Drama,Western            8.5  ...   \n933995     <NA>            155   Action,Adventure,Drama            8.5  ...   \n1168926    <NA>            153      Adventure,Drama,War            8.4  ...   \n1346325    <NA>            180   Biography,Comedy,Crime            8.2  ...   \n1181768    <NA>            140       Action,Crime,Drama            8.2  ...   \n721744     <NA>            118     Crime,Drama,Thriller            8.6  ...   \n\n         ordering                                              title  region  \\\n774848          1                           The Shawshank Redemption    <NA>   \n1268319         1                                    The Dark Knight    <NA>   \n1568611         1                                          Inception    <NA>   \n876166          1                                         Fight Club    <NA>   \n765487          1                                       Forrest Gump    <NA>   \n772965          1                                       Pulp Fiction    <NA>   \n1310657         1                                       Interstellar    <NA>   \n868149          1                                         The Matrix    <NA>   \n444363          1                                      The Godfather    <NA>   \n838707          1  The Lord of the Rings: The Fellowship of the Ring    <NA>   \n925321          1      The Lord of the Rings: The Return of the King    <NA>   \n1554320         1                              The Dark Knight Rises    <NA>   \n793622          1                                              Se7en    <NA>   \n925393          1              The Lord of the Rings: The Two Towers    <NA>   \n1762218         1                                   Django Unchained    <NA>   \n933995          1                                          Gladiator    <NA>   \n1168926         1                               Inglourious Basterds    <NA>   \n1346325         1                            The Wolf of Wall Street    <NA>   \n1181768         1                                      Batman Begins    <NA>   \n721744          1                           The Silence of the Lambs    <NA>   \n\n        language     types attributes isOriginalTitle  titleId_y  country  \\\n774848      <NA>  original       <NA>               1  tt0111161       IS   \n1268319     <NA>  original       <NA>               1  tt0468569       ID   \n1568611     <NA>  original       <NA>               1  tt1375666       GB   \n876166      <NA>  original       <NA>               1  tt0137523       FI   \n765487      <NA>  original       <NA>               1  tt0109830       DK   \n772965      <NA>  original       <NA>               1  tt0110912       EE   \n1310657     <NA>  original       <NA>               1  tt0816692       GB   \n868149      <NA>  original       <NA>               1  tt0133093       AE   \n444363      <NA>  original       <NA>               1  tt0068646       HK   \n838707      <NA>  original       <NA>               1  tt0120737       NZ   \n925321      <NA>  original       <NA>               1  tt0167260       IN   \n1554320     <NA>  original       <NA>               1  tt1345836       ID   \n793622      <NA>  original       <NA>               1  tt0114369       AE   \n925393      <NA>  original       <NA>               1  tt0167261       NZ   \n1762218     <NA>  original       <NA>               1  tt1853728       IN   \n933995      <NA>  original       <NA>               1  tt0172495       EG   \n1168926     <NA>  original       <NA>               1  tt0361748       IN   \n1346325     <NA>  original       <NA>               1  tt0993846       IN   \n1181768     <NA>  original       <NA>               1  tt0372784       GB   \n721744      <NA>  original       <NA>               1  tt0102926       PH   \n\n        composite_score  \n774848        871760.31  \n1268319       866137.50  \n1568611       769596.16  \n876166        701755.36  \n765487        681472.06  \n772965        670144.43  \n1310657       635870.19  \n868149        619520.79  \n444363        607480.04  \n838707        605482.43  \n925321        596937.30  \n1554320       551104.68  \n793622        543068.42  \n925393        538139.86  \n1762218       511853.65  \n933995        489051.85  \n1168926       478506.18  \n1346325       478496.14  \n1181768       475999.54  \n721744        467211.02  \n\n[20 rows x 22 columns]",
      "text/html": "<div>\n<style scoped>\n    .dataframe tbody tr th:only-of-type {\n        vertical-align: middle;\n    }\n\n    .dataframe tbody tr th {\n        vertical-align: top;\n    }\n\n    .dataframe thead th {\n        text-align: right;\n    }\n</style>\n<table border=\"1\" class=\"dataframe\">\n  <thead>\n    <tr style=\"text-align: right;\">\n      <th></th>\n      <th>tconst</th>\n      <th>titleType</th>\n      <th>primaryTitle</th>\n      <th>originalTitle</th>\n      <th>isAdult</th>\n      <th>startYear</th>\n      <th>endYear</th>\n      <th>runtimeMinutes</th>\n      <th>genres</th>\n      <th>averageRating</th>\n      <th>...</th>\n      <th>ordering</th>\n      <th>title</th>\n      <th>region</th>\n      <th>language</th>\n      <th>types</th>\n      <th>attributes</th>\n      <th>isOriginalTitle</th>\n      <th>titleId_y</th>\n      <th>country</th>\n      <th>composite_score</th>\n    </tr>\n  </thead>\n  <tbody>\n    <tr>\n      <th>774848</th>\n      <td>tt0111161</td>\n      <td>movie</td>\n      <td>The Shawshank Redemption</td>\n      <td>The Shawshank Redemption</td>\n      <td>0</td>\n      <td>1994</td>\n      <td>&lt;NA&gt;</td>\n      <td>142</td>\n      <td>Drama</td>\n      <td>9.3</td>\n      <td>...</td>\n      <td>1</td>\n      <td>The Shawshank Redemption</td>\n      <td>&lt;NA&gt;</td>\n      <td>&lt;NA&gt;</td>\n      <td>original</td>\n      <td>&lt;NA&gt;</td>\n      <td>1</td>\n      <td>tt0111161</td>\n      <td>IS</td>\n      <td>871760.31</td>\n    </tr>\n    <tr>\n      <th>1268319</th>\n      <td>tt0468569</td>\n      <td>movie</td>\n      <td>The Dark Knight</td>\n      <td>The Dark Knight</td>\n      <td>0</td>\n      <td>2008</td>\n      <td>&lt;NA&gt;</td>\n      <td>152</td>\n      <td>Action,Crime,Drama</td>\n      <td>9.0</td>\n      <td>...</td>\n      <td>1</td>\n      <td>The Dark Knight</td>\n      <td>&lt;NA&gt;</td>\n      <td>&lt;NA&gt;</td>\n      <td>original</td>\n      <td>&lt;NA&gt;</td>\n      <td>1</td>\n      <td>tt0468569</td>\n      <td>ID</td>\n      <td>866137.50</td>\n    </tr>\n    <tr>\n      <th>1568611</th>\n      <td>tt1375666</td>\n      <td>movie</td>\n      <td>Inception</td>\n      <td>Inception</td>\n      <td>0</td>\n      <td>2010</td>\n      <td>&lt;NA&gt;</td>\n      <td>148</td>\n      <td>Action,Adventure,Sci-Fi</td>\n      <td>8.8</td>\n      <td>...</td>\n      <td>1</td>\n      <td>Inception</td>\n      <td>&lt;NA&gt;</td>\n      <td>&lt;NA&gt;</td>\n      <td>original</td>\n      <td>&lt;NA&gt;</td>\n      <td>1</td>\n      <td>tt1375666</td>\n      <td>GB</td>\n      <td>769596.16</td>\n    </tr>\n    <tr>\n      <th>876166</th>\n      <td>tt0137523</td>\n      <td>movie</td>\n      <td>Fight Club</td>\n      <td>Fight Club</td>\n      <td>0</td>\n      <td>1999</td>\n      <td>&lt;NA&gt;</td>\n      <td>139</td>\n      <td>Drama</td>\n      <td>8.8</td>\n      <td>...</td>\n      <td>1</td>\n      <td>Fight Club</td>\n      <td>&lt;NA&gt;</td>\n      <td>&lt;NA&gt;</td>\n      <td>original</td>\n      <td>&lt;NA&gt;</td>\n      <td>1</td>\n      <td>tt0137523</td>\n      <td>FI</td>\n      <td>701755.36</td>\n    </tr>\n    <tr>\n      <th>765487</th>\n      <td>tt0109830</td>\n      <td>movie</td>\n      <td>Forrest Gump</td>\n      <td>Forrest Gump</td>\n      <td>0</td>\n      <td>1994</td>\n      <td>&lt;NA&gt;</td>\n      <td>142</td>\n      <td>Drama,Romance</td>\n      <td>8.8</td>\n      <td>...</td>\n      <td>1</td>\n      <td>Forrest Gump</td>\n      <td>&lt;NA&gt;</td>\n      <td>&lt;NA&gt;</td>\n      <td>original</td>\n      <td>&lt;NA&gt;</td>\n      <td>1</td>\n      <td>tt0109830</td>\n      <td>DK</td>\n      <td>681472.06</td>\n    </tr>\n    <tr>\n      <th>772965</th>\n      <td>tt0110912</td>\n      <td>movie</td>\n      <td>Pulp Fiction</td>\n      <td>Pulp Fiction</td>\n      <td>0</td>\n      <td>1994</td>\n      <td>&lt;NA&gt;</td>\n      <td>154</td>\n      <td>Crime,Drama</td>\n      <td>8.9</td>\n      <td>...</td>\n      <td>1</td>\n      <td>Pulp Fiction</td>\n      <td>&lt;NA&gt;</td>\n      <td>&lt;NA&gt;</td>\n      <td>original</td>\n      <td>&lt;NA&gt;</td>\n      <td>1</td>\n      <td>tt0110912</td>\n      <td>EE</td>\n      <td>670144.43</td>\n    </tr>\n    <tr>\n      <th>1310657</th>\n      <td>tt0816692</td>\n      <td>movie</td>\n      <td>Interstellar</td>\n      <td>Interstellar</td>\n      <td>0</td>\n      <td>2014</td>\n      <td>&lt;NA&gt;</td>\n      <td>169</td>\n      <td>Adventure,Drama,Sci-Fi</td>\n      <td>8.7</td>\n      <td>...</td>\n      <td>1</td>\n      <td>Interstellar</td>\n      <td>&lt;NA&gt;</td>\n      <td>&lt;NA&gt;</td>\n      <td>original</td>\n      <td>&lt;NA&gt;</td>\n      <td>1</td>\n      <td>tt0816692</td>\n      <td>GB</td>\n      <td>635870.19</td>\n    </tr>\n    <tr>\n      <th>868149</th>\n      <td>tt0133093</td>\n      <td>movie</td>\n      <td>The Matrix</td>\n      <td>The Matrix</td>\n      <td>0</td>\n      <td>1999</td>\n      <td>&lt;NA&gt;</td>\n      <td>136</td>\n      <td>Action,Sci-Fi</td>\n      <td>8.7</td>\n      <td>...</td>\n      <td>1</td>\n      <td>The Matrix</td>\n      <td>&lt;NA&gt;</td>\n      <td>&lt;NA&gt;</td>\n      <td>original</td>\n      <td>&lt;NA&gt;</td>\n      <td>1</td>\n      <td>tt0133093</td>\n      <td>AE</td>\n      <td>619520.79</td>\n    </tr>\n    <tr>\n      <th>444363</th>\n      <td>tt0068646</td>\n      <td>movie</td>\n      <td>The Godfather</td>\n      <td>The Godfather</td>\n      <td>0</td>\n      <td>1972</td>\n      <td>&lt;NA&gt;</td>\n      <td>175</td>\n      <td>Crime,Drama</td>\n      <td>9.2</td>\n      <td>...</td>\n      <td>1</td>\n      <td>The Godfather</td>\n      <td>&lt;NA&gt;</td>\n      <td>&lt;NA&gt;</td>\n      <td>original</td>\n      <td>&lt;NA&gt;</td>\n      <td>1</td>\n      <td>tt0068646</td>\n      <td>HK</td>\n      <td>607480.04</td>\n    </tr>\n    <tr>\n      <th>838707</th>\n      <td>tt0120737</td>\n      <td>movie</td>\n      <td>The Lord of the Rings: The Fellowship of the Ring</td>\n      <td>The Lord of the Rings: The Fellowship of the Ring</td>\n      <td>0</td>\n      <td>2001</td>\n      <td>&lt;NA&gt;</td>\n      <td>178</td>\n      <td>Action,Adventure,Drama</td>\n      <td>8.9</td>\n      <td>...</td>\n      <td>1</td>\n      <td>The Lord of the Rings: The Fellowship of the Ring</td>\n      <td>&lt;NA&gt;</td>\n      <td>&lt;NA&gt;</td>\n      <td>original</td>\n      <td>&lt;NA&gt;</td>\n      <td>1</td>\n      <td>tt0120737</td>\n      <td>NZ</td>\n      <td>605482.43</td>\n    </tr>\n    <tr>\n      <th>925321</th>\n      <td>tt0167260</td>\n      <td>movie</td>\n      <td>The Lord of the Rings: The Return of the King</td>\n      <td>The Lord of the Rings: The Return of the King</td>\n      <td>0</td>\n      <td>2003</td>\n      <td>&lt;NA&gt;</td>\n      <td>201</td>\n      <td>Action,Adventure,Drama</td>\n      <td>9.0</td>\n      <td>...</td>\n      <td>1</td>\n      <td>The Lord of the Rings: The Return of the King</td>\n      <td>&lt;NA&gt;</td>\n      <td>&lt;NA&gt;</td>\n      <td>original</td>\n      <td>&lt;NA&gt;</td>\n      <td>1</td>\n      <td>tt0167260</td>\n      <td>IN</td>\n      <td>596937.30</td>\n    </tr>\n    <tr>\n      <th>1554320</th>\n      <td>tt1345836</td>\n      <td>movie</td>\n      <td>The Dark Knight Rises</td>\n      <td>The Dark Knight Rises</td>\n      <td>0</td>\n      <td>2012</td>\n      <td>&lt;NA&gt;</td>\n      <td>164</td>\n      <td>Action,Drama,Thriller</td>\n      <td>8.4</td>\n      <td>...</td>\n      <td>1</td>\n      <td>The Dark Knight Rises</td>\n      <td>&lt;NA&gt;</td>\n      <td>&lt;NA&gt;</td>\n      <td>original</td>\n      <td>&lt;NA&gt;</td>\n      <td>1</td>\n      <td>tt1345836</td>\n      <td>ID</td>\n      <td>551104.68</td>\n    </tr>\n    <tr>\n      <th>793622</th>\n      <td>tt0114369</td>\n      <td>movie</td>\n      <td>Se7en</td>\n      <td>Se7en</td>\n      <td>0</td>\n      <td>1995</td>\n      <td>&lt;NA&gt;</td>\n      <td>127</td>\n      <td>Crime,Drama,Mystery</td>\n      <td>8.6</td>\n      <td>...</td>\n      <td>1</td>\n      <td>Se7en</td>\n      <td>&lt;NA&gt;</td>\n      <td>&lt;NA&gt;</td>\n      <td>original</td>\n      <td>&lt;NA&gt;</td>\n      <td>1</td>\n      <td>tt0114369</td>\n      <td>AE</td>\n      <td>543068.42</td>\n    </tr>\n    <tr>\n      <th>925393</th>\n      <td>tt0167261</td>\n      <td>movie</td>\n      <td>The Lord of the Rings: The Two Towers</td>\n      <td>The Lord of the Rings: The Two Towers</td>\n      <td>0</td>\n      <td>2002</td>\n      <td>&lt;NA&gt;</td>\n      <td>179</td>\n      <td>Action,Adventure,Drama</td>\n      <td>8.8</td>\n      <td>...</td>\n      <td>1</td>\n      <td>The Lord of the Rings: The Two Towers</td>\n      <td>&lt;NA&gt;</td>\n      <td>&lt;NA&gt;</td>\n      <td>original</td>\n      <td>&lt;NA&gt;</td>\n      <td>1</td>\n      <td>tt0167261</td>\n      <td>NZ</td>\n      <td>538139.86</td>\n    </tr>\n    <tr>\n      <th>1762218</th>\n      <td>tt1853728</td>\n      <td>movie</td>\n      <td>Django Unchained</td>\n      <td>Django Unchained</td>\n      <td>0</td>\n      <td>2012</td>\n      <td>&lt;NA&gt;</td>\n      <td>165</td>\n      <td>Comedy,Drama,Western</td>\n      <td>8.5</td>\n      <td>...</td>\n      <td>1</td>\n      <td>Django Unchained</td>\n      <td>&lt;NA&gt;</td>\n      <td>&lt;NA&gt;</td>\n      <td>original</td>\n      <td>&lt;NA&gt;</td>\n      <td>1</td>\n      <td>tt1853728</td>\n      <td>IN</td>\n      <td>511853.65</td>\n    </tr>\n    <tr>\n      <th>933995</th>\n      <td>tt0172495</td>\n      <td>movie</td>\n      <td>Gladiator</td>\n      <td>Gladiator</td>\n      <td>0</td>\n      <td>2000</td>\n      <td>&lt;NA&gt;</td>\n      <td>155</td>\n      <td>Action,Adventure,Drama</td>\n      <td>8.5</td>\n      <td>...</td>\n      <td>1</td>\n      <td>Gladiator</td>\n      <td>&lt;NA&gt;</td>\n      <td>&lt;NA&gt;</td>\n      <td>original</td>\n      <td>&lt;NA&gt;</td>\n      <td>1</td>\n      <td>tt0172495</td>\n      <td>EG</td>\n      <td>489051.85</td>\n    </tr>\n    <tr>\n      <th>1168926</th>\n      <td>tt0361748</td>\n      <td>movie</td>\n      <td>Inglourious Basterds</td>\n      <td>Inglourious Basterds</td>\n      <td>0</td>\n      <td>2009</td>\n      <td>&lt;NA&gt;</td>\n      <td>153</td>\n      <td>Adventure,Drama,War</td>\n      <td>8.4</td>\n      <td>...</td>\n      <td>1</td>\n      <td>Inglourious Basterds</td>\n      <td>&lt;NA&gt;</td>\n      <td>&lt;NA&gt;</td>\n      <td>original</td>\n      <td>&lt;NA&gt;</td>\n      <td>1</td>\n      <td>tt0361748</td>\n      <td>IN</td>\n      <td>478506.18</td>\n    </tr>\n    <tr>\n      <th>1346325</th>\n      <td>tt0993846</td>\n      <td>movie</td>\n      <td>The Wolf of Wall Street</td>\n      <td>The Wolf of Wall Street</td>\n      <td>0</td>\n      <td>2013</td>\n      <td>&lt;NA&gt;</td>\n      <td>180</td>\n      <td>Biography,Comedy,Crime</td>\n      <td>8.2</td>\n      <td>...</td>\n      <td>1</td>\n      <td>The Wolf of Wall Street</td>\n      <td>&lt;NA&gt;</td>\n      <td>&lt;NA&gt;</td>\n      <td>original</td>\n      <td>&lt;NA&gt;</td>\n      <td>1</td>\n      <td>tt0993846</td>\n      <td>IN</td>\n      <td>478496.14</td>\n    </tr>\n    <tr>\n      <th>1181768</th>\n      <td>tt0372784</td>\n      <td>movie</td>\n      <td>Batman Begins</td>\n      <td>Batman Begins</td>\n      <td>0</td>\n      <td>2005</td>\n      <td>&lt;NA&gt;</td>\n      <td>140</td>\n      <td>Action,Crime,Drama</td>\n      <td>8.2</td>\n      <td>...</td>\n      <td>1</td>\n      <td>Batman Begins</td>\n      <td>&lt;NA&gt;</td>\n      <td>&lt;NA&gt;</td>\n      <td>original</td>\n      <td>&lt;NA&gt;</td>\n      <td>1</td>\n      <td>tt0372784</td>\n      <td>GB</td>\n      <td>475999.54</td>\n    </tr>\n    <tr>\n      <th>721744</th>\n      <td>tt0102926</td>\n      <td>movie</td>\n      <td>The Silence of the Lambs</td>\n      <td>The Silence of the Lambs</td>\n      <td>0</td>\n      <td>1991</td>\n      <td>&lt;NA&gt;</td>\n      <td>118</td>\n      <td>Crime,Drama,Thriller</td>\n      <td>8.6</td>\n      <td>...</td>\n      <td>1</td>\n      <td>The Silence of the Lambs</td>\n      <td>&lt;NA&gt;</td>\n      <td>&lt;NA&gt;</td>\n      <td>original</td>\n      <td>&lt;NA&gt;</td>\n      <td>1</td>\n      <td>tt0102926</td>\n      <td>PH</td>\n      <td>467211.02</td>\n    </tr>\n  </tbody>\n</table>\n<p>20 rows × 22 columns</p>\n</div>"
     },
     "execution_count": 7,
     "metadata": {},
     "output_type": "execute_result"
    }
   ],
   "source": [
    "print(movies_df.shape)\n",
    "movies_df.head(20)"
   ],
   "metadata": {
    "collapsed": false,
    "ExecuteTime": {
     "end_time": "2024-07-08T21:39:17.988964Z",
     "start_time": "2024-07-08T21:39:17.951426Z"
    }
   },
   "id": "ca81fdfdf33542b0",
   "execution_count": 7
  },
  {
   "cell_type": "markdown",
   "source": [
    "# Task 2 - \"Cinematic Impact\" Hegemony"
   ],
   "metadata": {
    "collapsed": false
   },
   "id": "9f58b39b2862b4f5"
  },
  {
   "cell_type": "code",
   "outputs": [],
   "source": [
    "# weak cinematic impact\n",
    "votes_df = total_votes_by_country(movies_df)\n",
    "\n",
    "# strong cinematic impact\n",
    "avg_score_df = average_composite_score_by_country(movies_df)\n",
    "\n",
    "# strong cinematic impact v2\n",
    "avg_wgt_score_df = weighted_average_composite_score_by_country(movies_df)"
   ],
   "metadata": {
    "collapsed": false,
    "ExecuteTime": {
     "end_time": "2024-07-08T21:39:18.211852Z",
     "start_time": "2024-07-08T21:39:17.989970Z"
    }
   },
   "id": "c9db05d8ef33a497",
   "execution_count": 8
  },
  {
   "cell_type": "code",
   "outputs": [],
   "source": [
    "# Introducing dataset with codenames for countries (TODO)\n",
    "country_codes_df = pd.read_csv('data_gdp_population/country_codes_all.csv')"
   ],
   "metadata": {
    "collapsed": false,
    "ExecuteTime": {
     "end_time": "2024-07-08T21:39:18.221932Z",
     "start_time": "2024-07-08T21:39:18.212894Z"
    }
   },
   "id": "eaac4491e45f2f54",
   "execution_count": 9
  },
  {
   "cell_type": "code",
   "outputs": [
    {
     "name": "stdout",
     "output_type": "stream",
     "text": [
      "Country codes excluded from further analysis:\n",
      "['XWW', 'XWG', 'CSHH', 'XYU', 'DDDE', 'XEU', 'SUHH', 'YUCS', 'CSXX', 'XAS', 'XKV', 'AN', 'XKO', 'BUMM', 'VDVN', 'ZRCD', 'XSI', 'XPI']\n"
     ]
    }
   ],
   "source": [
    "votes_df, excluded_countries = get_countries_and_clean_orders(\n",
    "    votes_df, country_codes_df, 'country', 'alpha-2', ['name', 'number of votes'])\n",
    "\n",
    "avg_score_df, _ = get_countries_and_clean_orders(\n",
    "    avg_score_df, country_codes_df, 'country', 'alpha-2',['name', 'average composite score'])\n",
    "\n",
    "avg_wgt_score_df, _ = get_countries_and_clean_orders(\n",
    "    avg_wgt_score_df, country_codes_df, 'country', 'alpha-2', ['name', 'weighted average composite score'])\n",
    "\n",
    "print(f\"Country codes excluded from further analysis:\\n{excluded_countries}\")"
   ],
   "metadata": {
    "collapsed": false,
    "ExecuteTime": {
     "end_time": "2024-07-08T21:39:18.241549Z",
     "start_time": "2024-07-08T21:39:18.225021Z"
    }
   },
   "id": "3a817fe5752dc574",
   "execution_count": 10
  },
  {
   "cell_type": "code",
   "outputs": [
    {
     "data": {
      "text/plain": "                                                  name  number of votes\n0                                                India        206215661\n1                                            Australia         94268154\n2    United Kingdom of Great Britain and Northern I...         84405730\n3                                            Indonesia         58336390\n4                          Netherlands, Kingdom of the         48650006\n..                                                 ...              ...\n212                                           Botswana               10\n213                                         Seychelles                9\n214                                             Gambia                8\n215                                            Comoros                8\n216                                              Libya                8\n\n[199 rows x 2 columns]",
      "text/html": "<div>\n<style scoped>\n    .dataframe tbody tr th:only-of-type {\n        vertical-align: middle;\n    }\n\n    .dataframe tbody tr th {\n        vertical-align: top;\n    }\n\n    .dataframe thead th {\n        text-align: right;\n    }\n</style>\n<table border=\"1\" class=\"dataframe\">\n  <thead>\n    <tr style=\"text-align: right;\">\n      <th></th>\n      <th>name</th>\n      <th>number of votes</th>\n    </tr>\n  </thead>\n  <tbody>\n    <tr>\n      <th>0</th>\n      <td>India</td>\n      <td>206215661</td>\n    </tr>\n    <tr>\n      <th>1</th>\n      <td>Australia</td>\n      <td>94268154</td>\n    </tr>\n    <tr>\n      <th>2</th>\n      <td>United Kingdom of Great Britain and Northern I...</td>\n      <td>84405730</td>\n    </tr>\n    <tr>\n      <th>3</th>\n      <td>Indonesia</td>\n      <td>58336390</td>\n    </tr>\n    <tr>\n      <th>4</th>\n      <td>Netherlands, Kingdom of the</td>\n      <td>48650006</td>\n    </tr>\n    <tr>\n      <th>...</th>\n      <td>...</td>\n      <td>...</td>\n    </tr>\n    <tr>\n      <th>212</th>\n      <td>Botswana</td>\n      <td>10</td>\n    </tr>\n    <tr>\n      <th>213</th>\n      <td>Seychelles</td>\n      <td>9</td>\n    </tr>\n    <tr>\n      <th>214</th>\n      <td>Gambia</td>\n      <td>8</td>\n    </tr>\n    <tr>\n      <th>215</th>\n      <td>Comoros</td>\n      <td>8</td>\n    </tr>\n    <tr>\n      <th>216</th>\n      <td>Libya</td>\n      <td>8</td>\n    </tr>\n  </tbody>\n</table>\n<p>199 rows × 2 columns</p>\n</div>"
     },
     "execution_count": 11,
     "metadata": {},
     "output_type": "execute_result"
    }
   ],
   "source": [
    "votes_df"
   ],
   "metadata": {
    "collapsed": false,
    "ExecuteTime": {
     "end_time": "2024-07-08T21:39:18.253001Z",
     "start_time": "2024-07-08T21:39:18.242616Z"
    }
   },
   "id": "5330af04d3f8d141",
   "execution_count": 11
  },
  {
   "cell_type": "code",
   "outputs": [
    {
     "data": {
      "text/plain": "                  name  weighted average composite score\n0              Iceland                     806889.141677\n1              Estonia                     527363.572450\n2             Cameroon                     382709.202256\n3          New Zealand                     241750.755855\n4              Denmark                     225768.037646\n..                 ...                               ...\n212    Solomon Islands                          6.034706\n213  Equatorial Guinea                          5.813333\n214            Comoros                          5.410000\n215         Seychelles                          5.220000\n216             Gambia                          4.780000\n\n[199 rows x 2 columns]",
      "text/html": "<div>\n<style scoped>\n    .dataframe tbody tr th:only-of-type {\n        vertical-align: middle;\n    }\n\n    .dataframe tbody tr th {\n        vertical-align: top;\n    }\n\n    .dataframe thead th {\n        text-align: right;\n    }\n</style>\n<table border=\"1\" class=\"dataframe\">\n  <thead>\n    <tr style=\"text-align: right;\">\n      <th></th>\n      <th>name</th>\n      <th>weighted average composite score</th>\n    </tr>\n  </thead>\n  <tbody>\n    <tr>\n      <th>0</th>\n      <td>Iceland</td>\n      <td>806889.141677</td>\n    </tr>\n    <tr>\n      <th>1</th>\n      <td>Estonia</td>\n      <td>527363.572450</td>\n    </tr>\n    <tr>\n      <th>2</th>\n      <td>Cameroon</td>\n      <td>382709.202256</td>\n    </tr>\n    <tr>\n      <th>3</th>\n      <td>New Zealand</td>\n      <td>241750.755855</td>\n    </tr>\n    <tr>\n      <th>4</th>\n      <td>Denmark</td>\n      <td>225768.037646</td>\n    </tr>\n    <tr>\n      <th>...</th>\n      <td>...</td>\n      <td>...</td>\n    </tr>\n    <tr>\n      <th>212</th>\n      <td>Solomon Islands</td>\n      <td>6.034706</td>\n    </tr>\n    <tr>\n      <th>213</th>\n      <td>Equatorial Guinea</td>\n      <td>5.813333</td>\n    </tr>\n    <tr>\n      <th>214</th>\n      <td>Comoros</td>\n      <td>5.410000</td>\n    </tr>\n    <tr>\n      <th>215</th>\n      <td>Seychelles</td>\n      <td>5.220000</td>\n    </tr>\n    <tr>\n      <th>216</th>\n      <td>Gambia</td>\n      <td>4.780000</td>\n    </tr>\n  </tbody>\n</table>\n<p>199 rows × 2 columns</p>\n</div>"
     },
     "execution_count": 12,
     "metadata": {},
     "output_type": "execute_result"
    }
   ],
   "source": [
    "avg_wgt_score_df"
   ],
   "metadata": {
    "collapsed": false,
    "ExecuteTime": {
     "end_time": "2024-07-08T21:39:18.261054Z",
     "start_time": "2024-07-08T21:39:18.254124Z"
    }
   },
   "id": "51e9d60abad8c67f",
   "execution_count": 12
  },
  {
   "cell_type": "code",
   "outputs": [
    {
     "name": "stdout",
     "output_type": "stream",
     "text": [
      "Loading data from: data_gdp_population\\API_NY.GDP.MKTP.CD_DS2_en_csv_v2_580250.csv ...\n",
      "Loading data from: data_gdp_population\\API_SP.POP.TOTL_DS2_en_csv_v2_580248.csv ...\n"
     ]
    }
   ],
   "source": [
    "# Source (TODO): https://data.worldbank.org/indicator/NY.GDP.MKTP.CD?end=2023&name_desc=false&skipRedirection=true&start=1960&view=chart\n",
    "data_dir = 'data_gdp_population'\n",
    "\n",
    "# Load the data\n",
    "gdp_df = clean_data(load_data(os.path.join(data_dir, 'API_NY.GDP.MKTP.CD_DS2_en_csv_v2_580250.csv'), header=2))\n",
    "pop_df = clean_data(load_data(os.path.join(data_dir, 'API_SP.POP.TOTL_DS2_en_csv_v2_580248.csv'), header=2))"
   ],
   "metadata": {
    "collapsed": false,
    "ExecuteTime": {
     "end_time": "2024-07-08T21:39:18.280699Z",
     "start_time": "2024-07-08T21:39:18.262062Z"
    }
   },
   "id": "45ca7c964478140f",
   "execution_count": 13
  },
  {
   "cell_type": "code",
   "outputs": [
    {
     "data": {
      "text/plain": "               Country Name          2023\n251           United States  2.736094e+13\n40                    China  1.779478e+13\n55                  Germany  4.456081e+12\n119                   Japan  4.212945e+12\n109                   India  3.549919e+12\n..                      ...           ...\n239                   Tonga           NaN\n254           Venezuela, RB           NaN\n255  British Virgin Islands           NaN\n256   Virgin Islands (U.S.)           NaN\n262             Yemen, Rep.           NaN\n\n[215 rows x 2 columns]",
      "text/html": "<div>\n<style scoped>\n    .dataframe tbody tr th:only-of-type {\n        vertical-align: middle;\n    }\n\n    .dataframe tbody tr th {\n        vertical-align: top;\n    }\n\n    .dataframe thead th {\n        text-align: right;\n    }\n</style>\n<table border=\"1\" class=\"dataframe\">\n  <thead>\n    <tr style=\"text-align: right;\">\n      <th></th>\n      <th>Country Name</th>\n      <th>2023</th>\n    </tr>\n  </thead>\n  <tbody>\n    <tr>\n      <th>251</th>\n      <td>United States</td>\n      <td>2.736094e+13</td>\n    </tr>\n    <tr>\n      <th>40</th>\n      <td>China</td>\n      <td>1.779478e+13</td>\n    </tr>\n    <tr>\n      <th>55</th>\n      <td>Germany</td>\n      <td>4.456081e+12</td>\n    </tr>\n    <tr>\n      <th>119</th>\n      <td>Japan</td>\n      <td>4.212945e+12</td>\n    </tr>\n    <tr>\n      <th>109</th>\n      <td>India</td>\n      <td>3.549919e+12</td>\n    </tr>\n    <tr>\n      <th>...</th>\n      <td>...</td>\n      <td>...</td>\n    </tr>\n    <tr>\n      <th>239</th>\n      <td>Tonga</td>\n      <td>NaN</td>\n    </tr>\n    <tr>\n      <th>254</th>\n      <td>Venezuela, RB</td>\n      <td>NaN</td>\n    </tr>\n    <tr>\n      <th>255</th>\n      <td>British Virgin Islands</td>\n      <td>NaN</td>\n    </tr>\n    <tr>\n      <th>256</th>\n      <td>Virgin Islands (U.S.)</td>\n      <td>NaN</td>\n    </tr>\n    <tr>\n      <th>262</th>\n      <td>Yemen, Rep.</td>\n      <td>NaN</td>\n    </tr>\n  </tbody>\n</table>\n<p>215 rows × 2 columns</p>\n</div>"
     },
     "execution_count": 14,
     "metadata": {},
     "output_type": "execute_result"
    }
   ],
   "source": [
    "gdp_df = filter_countries_with_reference(gdp_df, 'Country Code', country_codes_df, 'alpha-3')\n",
    "gdp_df"
   ],
   "metadata": {
    "collapsed": false,
    "ExecuteTime": {
     "end_time": "2024-07-08T21:39:18.291446Z",
     "start_time": "2024-07-08T21:39:18.281761Z"
    }
   },
   "id": "d6ab411eff23732d",
   "execution_count": 14
  },
  {
   "cell_type": "code",
   "outputs": [
    {
     "data": {
      "text/plain": "                 Country Name          2023\n109                     India  1.428628e+09\n40                      China  1.410710e+09\n251             United States  3.349149e+08\n106                 Indonesia  2.775341e+08\n184                  Pakistan  2.404857e+08\n..                        ...           ...\n147  St. Martin (French part)  3.207700e+04\n255    British Virgin Islands  3.153800e+04\n188                     Palau  1.805800e+04\n179                     Nauru  1.278000e+04\n245                    Tuvalu  1.139600e+04\n\n[215 rows x 2 columns]",
      "text/html": "<div>\n<style scoped>\n    .dataframe tbody tr th:only-of-type {\n        vertical-align: middle;\n    }\n\n    .dataframe tbody tr th {\n        vertical-align: top;\n    }\n\n    .dataframe thead th {\n        text-align: right;\n    }\n</style>\n<table border=\"1\" class=\"dataframe\">\n  <thead>\n    <tr style=\"text-align: right;\">\n      <th></th>\n      <th>Country Name</th>\n      <th>2023</th>\n    </tr>\n  </thead>\n  <tbody>\n    <tr>\n      <th>109</th>\n      <td>India</td>\n      <td>1.428628e+09</td>\n    </tr>\n    <tr>\n      <th>40</th>\n      <td>China</td>\n      <td>1.410710e+09</td>\n    </tr>\n    <tr>\n      <th>251</th>\n      <td>United States</td>\n      <td>3.349149e+08</td>\n    </tr>\n    <tr>\n      <th>106</th>\n      <td>Indonesia</td>\n      <td>2.775341e+08</td>\n    </tr>\n    <tr>\n      <th>184</th>\n      <td>Pakistan</td>\n      <td>2.404857e+08</td>\n    </tr>\n    <tr>\n      <th>...</th>\n      <td>...</td>\n      <td>...</td>\n    </tr>\n    <tr>\n      <th>147</th>\n      <td>St. Martin (French part)</td>\n      <td>3.207700e+04</td>\n    </tr>\n    <tr>\n      <th>255</th>\n      <td>British Virgin Islands</td>\n      <td>3.153800e+04</td>\n    </tr>\n    <tr>\n      <th>188</th>\n      <td>Palau</td>\n      <td>1.805800e+04</td>\n    </tr>\n    <tr>\n      <th>179</th>\n      <td>Nauru</td>\n      <td>1.278000e+04</td>\n    </tr>\n    <tr>\n      <th>245</th>\n      <td>Tuvalu</td>\n      <td>1.139600e+04</td>\n    </tr>\n  </tbody>\n</table>\n<p>215 rows × 2 columns</p>\n</div>"
     },
     "execution_count": 15,
     "metadata": {},
     "output_type": "execute_result"
    }
   ],
   "source": [
    "pop_df = filter_countries_with_reference(pop_df, 'Country Code', country_codes_df, 'alpha-3')\n",
    "pop_df"
   ],
   "metadata": {
    "collapsed": false,
    "ExecuteTime": {
     "end_time": "2024-07-08T21:39:18.301110Z",
     "start_time": "2024-07-08T21:39:18.292453Z"
    }
   },
   "id": "49de36c1d648f7a2",
   "execution_count": 15
  },
  {
   "cell_type": "code",
   "outputs": [
    {
     "data": {
      "text/plain": "                      index  gdp_per_population\n70               Luxembourg       128259.402583\n24                  Ireland       103684.880802\n19              Switzerland        99994.938020\n30                   Norway        87961.780614\n29                Singapore        84734.255921\n..                      ...                 ...\n210                   Tonga                 NaN\n211           Venezuela, RB                 NaN\n212  British Virgin Islands                 NaN\n213   Virgin Islands (U.S.)                 NaN\n214             Yemen, Rep.                 NaN\n\n[215 rows x 2 columns]",
      "text/html": "<div>\n<style scoped>\n    .dataframe tbody tr th:only-of-type {\n        vertical-align: middle;\n    }\n\n    .dataframe tbody tr th {\n        vertical-align: top;\n    }\n\n    .dataframe thead th {\n        text-align: right;\n    }\n</style>\n<table border=\"1\" class=\"dataframe\">\n  <thead>\n    <tr style=\"text-align: right;\">\n      <th></th>\n      <th>index</th>\n      <th>gdp_per_population</th>\n    </tr>\n  </thead>\n  <tbody>\n    <tr>\n      <th>70</th>\n      <td>Luxembourg</td>\n      <td>128259.402583</td>\n    </tr>\n    <tr>\n      <th>24</th>\n      <td>Ireland</td>\n      <td>103684.880802</td>\n    </tr>\n    <tr>\n      <th>19</th>\n      <td>Switzerland</td>\n      <td>99994.938020</td>\n    </tr>\n    <tr>\n      <th>30</th>\n      <td>Norway</td>\n      <td>87961.780614</td>\n    </tr>\n    <tr>\n      <th>29</th>\n      <td>Singapore</td>\n      <td>84734.255921</td>\n    </tr>\n    <tr>\n      <th>...</th>\n      <td>...</td>\n      <td>...</td>\n    </tr>\n    <tr>\n      <th>210</th>\n      <td>Tonga</td>\n      <td>NaN</td>\n    </tr>\n    <tr>\n      <th>211</th>\n      <td>Venezuela, RB</td>\n      <td>NaN</td>\n    </tr>\n    <tr>\n      <th>212</th>\n      <td>British Virgin Islands</td>\n      <td>NaN</td>\n    </tr>\n    <tr>\n      <th>213</th>\n      <td>Virgin Islands (U.S.)</td>\n      <td>NaN</td>\n    </tr>\n    <tr>\n      <th>214</th>\n      <td>Yemen, Rep.</td>\n      <td>NaN</td>\n    </tr>\n  </tbody>\n</table>\n<p>215 rows × 2 columns</p>\n</div>"
     },
     "execution_count": 16,
     "metadata": {},
     "output_type": "execute_result"
    }
   ],
   "source": [
    "gdp_pop_df = calculate_gdp_per_population(gdp_df, pop_df)\n",
    "gdp_pop_df"
   ],
   "metadata": {
    "collapsed": false,
    "ExecuteTime": {
     "end_time": "2024-07-08T21:39:18.386953Z",
     "start_time": "2024-07-08T21:39:18.302118Z"
    }
   },
   "id": "c356a701f8aa19a4",
   "execution_count": 16
  },
  {
   "cell_type": "code",
   "outputs": [],
   "source": [
    "votes_df = rename_and_add_rank(votes_df, ['country', 'number of votes'])\n",
    "avg_score_df = rename_and_add_rank(avg_score_df, ['country', 'average score'])\n",
    "avg_wgt_score_df = rename_and_add_rank(avg_wgt_score_df, ['country', 'weighted average score'])\n",
    "\n",
    "gdp_df = rename_and_add_rank(gdp_df, ['country', 'gdp'])\n",
    "pop_df = rename_and_add_rank(pop_df, ['country', 'population'])\n",
    "gdp_pop_df = rename_and_add_rank(gdp_pop_df, ['country', 'gdp/population'])"
   ],
   "metadata": {
    "collapsed": false,
    "ExecuteTime": {
     "end_time": "2024-07-08T21:39:18.393903Z",
     "start_time": "2024-07-08T21:39:18.387521Z"
    }
   },
   "id": "a259a67f73985432",
   "execution_count": 17
  },
  {
   "cell_type": "code",
   "outputs": [
    {
     "name": "stdout",
     "output_type": "stream",
     "text": [
      "\n",
      "Gdp / Avg_score Hegemony Rankings:\n",
      "1. Mongolia (Hegemony Score: 0)\n",
      "2. Slovenia (Hegemony Score: 0)\n",
      "3. Thailand (Hegemony Score: 1)\n",
      "4. Albania (Hegemony Score: 1)\n",
      "5. Marshall Islands (Hegemony Score: 1)\n",
      "6. Mali (Hegemony Score: 2)\n",
      "7. Grenada (Hegemony Score: 2)\n",
      "8. Portugal (Hegemony Score: 3)\n",
      "9. Myanmar (Hegemony Score: 3)\n",
      "10. Bermuda (Hegemony Score: 3)\n",
      "11. Sao Tome and Principe (Hegemony Score: 4)\n",
      "12. Eritrea (Hegemony Score: 4)\n",
      "13. Sweden (Hegemony Score: 4)\n",
      "14. Cyprus (Hegemony Score: 5)\n",
      "15. Antigua and Barbuda (Hegemony Score: 5)\n",
      "16. Nepal (Hegemony Score: 6)\n",
      "17. Azerbaijan (Hegemony Score: 6)\n",
      "18. Norway (Hegemony Score: 6)\n",
      "19. Belize (Hegemony Score: 7)\n",
      "20. American Samoa (Hegemony Score: 7)\n",
      "21. Belarus (Hegemony Score: 8)\n",
      "22. Nicaragua (Hegemony Score: 9)\n",
      "23. Romania (Hegemony Score: 10)\n",
      "24. Guam (Hegemony Score: 10)\n",
      "25. Armenia (Hegemony Score: 10)\n",
      "26. Denmark (Hegemony Score: 10)\n",
      "27. Bulgaria (Hegemony Score: 11)\n",
      "28. Burkina Faso (Hegemony Score: 11)\n",
      "29. Cabo Verde (Hegemony Score: 11)\n",
      "30. Indonesia (Hegemony Score: 12)\n",
      "31. Mauritania (Hegemony Score: 12)\n",
      "32. Brunei Darussalam (Hegemony Score: 12)\n",
      "33. Hungary (Hegemony Score: 13)\n",
      "34. India (Hegemony Score: 14)\n",
      "35. Spain (Hegemony Score: 14)\n",
      "36. Cambodia (Hegemony Score: 14)\n",
      "37. Tunisia (Hegemony Score: 15)\n",
      "38. Lithuania (Hegemony Score: 16)\n",
      "39. Malta (Hegemony Score: 17)\n",
      "40. Serbia (Hegemony Score: 17)\n",
      "41. Latvia (Hegemony Score: 17)\n",
      "42. Niger (Hegemony Score: 17)\n",
      "43. Philippines (Hegemony Score: 18)\n",
      "44. Austria (Hegemony Score: 18)\n",
      "45. Australia (Hegemony Score: 18)\n",
      "46. Aruba (Hegemony Score: 18)\n",
      "47. Lesotho (Hegemony Score: 19)\n",
      "48. Honduras (Hegemony Score: 19)\n",
      "49. South Africa (Hegemony Score: 20)\n",
      "50. Uzbekistan (Hegemony Score: 21)\n",
      "51. Chile (Hegemony Score: 21)\n",
      "52. United Arab Emirates (Hegemony Score: 21)\n",
      "53. Ukraine (Hegemony Score: 21)\n",
      "54. Paraguay (Hegemony Score: 22)\n",
      "55. Virgin Islands (U.S.) (Hegemony Score: 22)\n",
      "56. New Caledonia (Hegemony Score: 22)\n",
      "57. Malaysia (Hegemony Score: 22)\n",
      "58. Peru (Hegemony Score: 22)\n",
      "59. Jordan (Hegemony Score: 22)\n",
      "60. Sierra Leone (Hegemony Score: 23)\n",
      "61. Ireland (Hegemony Score: 23)\n",
      "62. France (Hegemony Score: 23)\n",
      "63. Singapore (Hegemony Score: 23)\n",
      "64. Czechia (Hegemony Score: 23)\n",
      "65. Comoros (Hegemony Score: 24)\n",
      "66. Argentina (Hegemony Score: 24)\n",
      "67. Maldives (Hegemony Score: 24)\n",
      "68. Guinea (Hegemony Score: 24)\n",
      "69. Georgia (Hegemony Score: 24)\n",
      "70. Haiti (Hegemony Score: 25)\n",
      "71. Israel (Hegemony Score: 25)\n",
      "72. Somalia (Hegemony Score: 25)\n",
      "73. Bangladesh (Hegemony Score: 26)\n",
      "74. Belgium (Hegemony Score: 26)\n",
      "75. Poland (Hegemony Score: 26)\n",
      "76. Liberia (Hegemony Score: 26)\n",
      "77. Barbados (Hegemony Score: 26)\n",
      "78. Solomon Islands (Hegemony Score: 26)\n",
      "79. Iraq (Hegemony Score: 27)\n",
      "80. Rwanda (Hegemony Score: 27)\n",
      "81. Colombia (Hegemony Score: 27)\n",
      "82. Italy (Hegemony Score: 27)\n",
      "83. Malawi (Hegemony Score: 28)\n",
      "84. Canada (Hegemony Score: 28)\n",
      "85. Burundi (Hegemony Score: 28)\n",
      "86. Guatemala (Hegemony Score: 29)\n",
      "87. Finland (Hegemony Score: 29)\n",
      "88. Angola (Hegemony Score: 29)\n",
      "89. Switzerland (Hegemony Score: 31)\n",
      "90. Viet Nam (Hegemony Score: 31)\n",
      "91. Togo (Hegemony Score: 31)\n",
      "92. Isle of Man (Hegemony Score: 33)\n",
      "93. Saudi Arabia (Hegemony Score: 33)\n",
      "94. Kenya (Hegemony Score: 33)\n",
      "95. Seychelles (Hegemony Score: 33)\n",
      "96. Mauritius (Hegemony Score: 33)\n",
      "97. Guyana (Hegemony Score: 34)\n",
      "98. Zambia (Hegemony Score: 35)\n",
      "99. Trinidad and Tobago (Hegemony Score: 35)\n",
      "100. Mexico (Hegemony Score: 36)\n",
      "101. Pakistan (Hegemony Score: 36)\n",
      "102. Japan (Hegemony Score: 37)\n",
      "103. Germany (Hegemony Score: 37)\n",
      "104. Mozambique (Hegemony Score: 37)\n",
      "105. Suriname (Hegemony Score: 37)\n",
      "106. Eswatini (Hegemony Score: 37)\n",
      "107. Greece (Hegemony Score: 38)\n",
      "108. Luxembourg (Hegemony Score: 39)\n",
      "109. Tajikistan (Hegemony Score: 39)\n",
      "110. Guinea-Bissau (Hegemony Score: 39)\n",
      "111. Fiji (Hegemony Score: 40)\n",
      "112. Ecuador (Hegemony Score: 40)\n",
      "113. Uruguay (Hegemony Score: 40)\n",
      "114. Croatia (Hegemony Score: 41)\n",
      "115. Gabon (Hegemony Score: 42)\n",
      "116. French Polynesia (Hegemony Score: 42)\n",
      "117. Djibouti (Hegemony Score: 43)\n",
      "118. Costa Rica (Hegemony Score: 43)\n",
      "119. Senegal (Hegemony Score: 44)\n",
      "120. Andorra (Hegemony Score: 44)\n",
      "121. Faroe Islands (Hegemony Score: 46)\n",
      "122. New Zealand (Hegemony Score: 46)\n",
      "123. Bahrain (Hegemony Score: 47)\n",
      "124. Dominican Republic (Hegemony Score: 48)\n",
      "125. San Marino (Hegemony Score: 49)\n",
      "126. Kazakhstan (Hegemony Score: 50)\n",
      "127. Benin (Hegemony Score: 50)\n",
      "128. Zimbabwe (Hegemony Score: 51)\n",
      "129. Dominica (Hegemony Score: 51)\n",
      "130. El Salvador (Hegemony Score: 52)\n",
      "131. China (Hegemony Score: 53)\n",
      "132. Madagascar (Hegemony Score: 53)\n",
      "133. Equatorial Guinea (Hegemony Score: 54)\n",
      "134. Brazil (Hegemony Score: 54)\n",
      "135. Montenegro (Hegemony Score: 56)\n",
      "136. Qatar (Hegemony Score: 57)\n",
      "137. Timor-Leste (Hegemony Score: 57)\n",
      "138. Panama (Hegemony Score: 58)\n",
      "139. Lebanon (Hegemony Score: 58)\n",
      "140. Sri Lanka (Hegemony Score: 61)\n",
      "141. Uganda (Hegemony Score: 66)\n",
      "142. Morocco (Hegemony Score: 67)\n",
      "143. Bosnia and Herzegovina (Hegemony Score: 67)\n",
      "144. Chad (Hegemony Score: 67)\n",
      "145. Puerto Rico (Hegemony Score: 68)\n",
      "146. Ghana (Hegemony Score: 68)\n",
      "147. Turkmenistan (Hegemony Score: 68)\n",
      "148. North Macedonia (Hegemony Score: 69)\n",
      "149. Botswana (Hegemony Score: 69)\n",
      "150. Nigeria (Hegemony Score: 70)\n",
      "151. Papua New Guinea (Hegemony Score: 71)\n",
      "152. Tonga (Hegemony Score: 72)\n",
      "153. Algeria (Hegemony Score: 72)\n",
      "154. Russian Federation (Hegemony Score: 75)\n",
      "155. Kuwait (Hegemony Score: 75)\n",
      "156. Oman (Hegemony Score: 76)\n",
      "157. Sudan (Hegemony Score: 78)\n",
      "158. Syrian Arab Republic (Hegemony Score: 80)\n",
      "159. Monaco (Hegemony Score: 81)\n",
      "160. Ethiopia (Hegemony Score: 83)\n",
      "161. Estonia (Hegemony Score: 88)\n",
      "162. Cuba (Hegemony Score: 88)\n",
      "163. Iceland (Hegemony Score: 91)\n",
      "164. Cameroon (Hegemony Score: 91)\n",
      "165. Jamaica (Hegemony Score: 102)\n",
      "166. Greenland (Hegemony Score: 103)\n",
      "167. Libya (Hegemony Score: 105)\n",
      "168. Afghanistan (Hegemony Score: 117)\n",
      "169. Gibraltar (Hegemony Score: 127)\n",
      "170. Bhutan (Hegemony Score: 130)\n",
      "171. Liechtenstein (Hegemony Score: 167)\n",
      "\n",
      "Pop / Votes Hegemony Rankings:\n",
      "1. India (Hegemony Score: 0)\n",
      "2. Indonesia (Hegemony Score: 0)\n",
      "3. Colombia (Hegemony Score: 0)\n",
      "4. Poland (Hegemony Score: 1)\n",
      "5. Sao Tome and Principe (Hegemony Score: 1)\n",
      "6. South Africa (Hegemony Score: 2)\n",
      "7. Djibouti (Hegemony Score: 2)\n",
      "8. Germany (Hegemony Score: 2)\n",
      "9. Argentina (Hegemony Score: 3)\n",
      "10. Mauritius (Hegemony Score: 3)\n",
      "11. Guinea-Bissau (Hegemony Score: 3)\n",
      "12. Philippines (Hegemony Score: 4)\n",
      "13. Timor-Leste (Hegemony Score: 4)\n",
      "14. Virgin Islands (U.S.) (Hegemony Score: 4)\n",
      "15. French Polynesia (Hegemony Score: 5)\n",
      "16. Malaysia (Hegemony Score: 6)\n",
      "17. Italy (Hegemony Score: 6)\n",
      "18. Bermuda (Hegemony Score: 6)\n",
      "19. Cuba (Hegemony Score: 8)\n",
      "20. Cameroon (Hegemony Score: 8)\n",
      "21. Dominican Republic (Hegemony Score: 8)\n",
      "22. Seychelles (Hegemony Score: 9)\n",
      "23. Cabo Verde (Hegemony Score: 9)\n",
      "24. Isle of Man (Hegemony Score: 9)\n",
      "25. Guyana (Hegemony Score: 10)\n",
      "26. Grenada (Hegemony Score: 10)\n",
      "27. Gabon (Hegemony Score: 10)\n",
      "28. Belize (Hegemony Score: 11)\n",
      "29. Paraguay (Hegemony Score: 12)\n",
      "30. Tunisia (Hegemony Score: 12)\n",
      "31. Kuwait (Hegemony Score: 12)\n",
      "32. Qatar (Hegemony Score: 12)\n",
      "33. Guam (Hegemony Score: 13)\n",
      "34. Thailand (Hegemony Score: 13)\n",
      "35. Kazakhstan (Hegemony Score: 14)\n",
      "36. New Caledonia (Hegemony Score: 15)\n",
      "37. Honduras (Hegemony Score: 15)\n",
      "38. Japan (Hegemony Score: 15)\n",
      "39. Tonga (Hegemony Score: 16)\n",
      "40. France (Hegemony Score: 16)\n",
      "41. Aruba (Hegemony Score: 16)\n",
      "42. Senegal (Hegemony Score: 17)\n",
      "43. Belarus (Hegemony Score: 17)\n",
      "44. Romania (Hegemony Score: 17)\n",
      "45. American Samoa (Hegemony Score: 18)\n",
      "46. Panama (Hegemony Score: 18)\n",
      "47. Azerbaijan (Hegemony Score: 19)\n",
      "48. Peru (Hegemony Score: 20)\n",
      "49. Spain (Hegemony Score: 20)\n",
      "50. Mexico (Hegemony Score: 22)\n",
      "51. Fiji (Hegemony Score: 23)\n",
      "52. Nepal (Hegemony Score: 24)\n",
      "53. Sri Lanka (Hegemony Score: 25)\n",
      "54. El Salvador (Hegemony Score: 25)\n",
      "55. Oman (Hegemony Score: 25)\n",
      "56. Trinidad and Tobago (Hegemony Score: 25)\n",
      "57. Solomon Islands (Hegemony Score: 25)\n",
      "58. Canada (Hegemony Score: 25)\n",
      "59. Maldives (Hegemony Score: 26)\n",
      "60. Eswatini (Hegemony Score: 26)\n",
      "61. Bahrain (Hegemony Score: 27)\n",
      "62. Ukraine (Hegemony Score: 27)\n",
      "63. Mongolia (Hegemony Score: 27)\n",
      "64. Suriname (Hegemony Score: 28)\n",
      "65. Brunei Darussalam (Hegemony Score: 29)\n",
      "66. Guatemala (Hegemony Score: 29)\n",
      "67. Tajikistan (Hegemony Score: 29)\n",
      "68. Barbados (Hegemony Score: 29)\n",
      "69. Dominica (Hegemony Score: 30)\n",
      "70. Saudi Arabia (Hegemony Score: 31)\n",
      "71. Brazil (Hegemony Score: 32)\n",
      "72. Jordan (Hegemony Score: 33)\n",
      "73. Nicaragua (Hegemony Score: 33)\n",
      "74. Chile (Hegemony Score: 33)\n",
      "75. Antigua and Barbuda (Hegemony Score: 35)\n",
      "76. Cambodia (Hegemony Score: 36)\n",
      "77. Comoros (Hegemony Score: 37)\n",
      "78. Marshall Islands (Hegemony Score: 37)\n",
      "79. Belgium (Hegemony Score: 38)\n",
      "80. Benin (Hegemony Score: 38)\n",
      "81. Equatorial Guinea (Hegemony Score: 40)\n",
      "82. Russian Federation (Hegemony Score: 41)\n",
      "83. Mauritania (Hegemony Score: 42)\n",
      "84. Puerto Rico (Hegemony Score: 42)\n",
      "85. Syrian Arab Republic (Hegemony Score: 42)\n",
      "86. Turkmenistan (Hegemony Score: 43)\n",
      "87. Portugal (Hegemony Score: 43)\n",
      "88. Haiti (Hegemony Score: 44)\n",
      "89. Bangladesh (Hegemony Score: 45)\n",
      "90. China (Hegemony Score: 45)\n",
      "91. Afghanistan (Hegemony Score: 46)\n",
      "92. Uzbekistan (Hegemony Score: 46)\n",
      "93. Eritrea (Hegemony Score: 47)\n",
      "94. Lesotho (Hegemony Score: 47)\n",
      "95. Burkina Faso (Hegemony Score: 48)\n",
      "96. Viet Nam (Hegemony Score: 48)\n",
      "97. Bulgaria (Hegemony Score: 49)\n",
      "98. Faroe Islands (Hegemony Score: 50)\n",
      "99. Switzerland (Hegemony Score: 51)\n",
      "100. Iraq (Hegemony Score: 51)\n",
      "101. Australia (Hegemony Score: 53)\n",
      "102. Andorra (Hegemony Score: 53)\n",
      "103. Lebanon (Hegemony Score: 53)\n",
      "104. Morocco (Hegemony Score: 53)\n",
      "105. Chad (Hegemony Score: 53)\n",
      "106. Botswana (Hegemony Score: 53)\n",
      "107. Serbia (Hegemony Score: 53)\n",
      "108. Armenia (Hegemony Score: 54)\n",
      "109. Czechia (Hegemony Score: 57)\n",
      "110. Montenegro (Hegemony Score: 58)\n",
      "111. Hungary (Hegemony Score: 58)\n",
      "112. Georgia (Hegemony Score: 58)\n",
      "113. Pakistan (Hegemony Score: 58)\n",
      "114. Albania (Hegemony Score: 59)\n",
      "115. Ecuador (Hegemony Score: 60)\n",
      "116. Austria (Hegemony Score: 60)\n",
      "117. Monaco (Hegemony Score: 61)\n",
      "118. Algeria (Hegemony Score: 62)\n",
      "119. Mali (Hegemony Score: 63)\n",
      "120. Sierra Leone (Hegemony Score: 63)\n",
      "121. Cyprus (Hegemony Score: 63)\n",
      "122. Malta (Hegemony Score: 63)\n",
      "123. Togo (Hegemony Score: 63)\n",
      "124. Sweden (Hegemony Score: 66)\n",
      "125. Bhutan (Hegemony Score: 66)\n",
      "126. Greece (Hegemony Score: 66)\n",
      "127. Angola (Hegemony Score: 69)\n",
      "128. Zambia (Hegemony Score: 70)\n",
      "129. Liberia (Hegemony Score: 71)\n",
      "130. Costa Rica (Hegemony Score: 72)\n",
      "131. North Macedonia (Hegemony Score: 72)\n",
      "132. Lithuania (Hegemony Score: 74)\n",
      "133. San Marino (Hegemony Score: 74)\n",
      "134. Bosnia and Herzegovina (Hegemony Score: 74)\n",
      "135. Zimbabwe (Hegemony Score: 75)\n",
      "136. Uruguay (Hegemony Score: 76)\n",
      "137. Norway (Hegemony Score: 76)\n",
      "138. Myanmar (Hegemony Score: 76)\n",
      "139. Ghana (Hegemony Score: 76)\n",
      "140. Papua New Guinea (Hegemony Score: 78)\n",
      "141. Jamaica (Hegemony Score: 78)\n",
      "142. Kenya (Hegemony Score: 78)\n",
      "143. Rwanda (Hegemony Score: 79)\n",
      "144. Gibraltar (Hegemony Score: 80)\n",
      "145. Latvia (Hegemony Score: 80)\n",
      "146. Slovenia (Hegemony Score: 80)\n",
      "147. Greenland (Hegemony Score: 81)\n",
      "148. Nigeria (Hegemony Score: 82)\n",
      "149. United Arab Emirates (Hegemony Score: 82)\n",
      "150. Niger (Hegemony Score: 83)\n",
      "151. Croatia (Hegemony Score: 85)\n",
      "152. Israel (Hegemony Score: 86)\n",
      "153. Denmark (Hegemony Score: 90)\n",
      "154. Mozambique (Hegemony Score: 93)\n",
      "155. Libya (Hegemony Score: 93)\n",
      "156. Finland (Hegemony Score: 96)\n",
      "157. Singapore (Hegemony Score: 96)\n",
      "158. Malawi (Hegemony Score: 96)\n",
      "159. Guinea (Hegemony Score: 97)\n",
      "160. New Zealand (Hegemony Score: 97)\n",
      "161. Uganda (Hegemony Score: 101)\n",
      "162. Ireland (Hegemony Score: 105)\n",
      "163. Somalia (Hegemony Score: 109)\n",
      "164. Luxembourg (Hegemony Score: 110)\n",
      "165. Burundi (Hegemony Score: 111)\n",
      "166. Ethiopia (Hegemony Score: 113)\n",
      "167. Sudan (Hegemony Score: 114)\n",
      "168. Estonia (Hegemony Score: 120)\n",
      "169. Liechtenstein (Hegemony Score: 128)\n",
      "170. Madagascar (Hegemony Score: 130)\n",
      "171. Iceland (Hegemony Score: 139)\n",
      "\n",
      "Gdp_pop / Wgt_score Hegemony Rankings:\n",
      "1. Japan (Hegemony Score: 0)\n",
      "2. Bulgaria (Hegemony Score: 0)\n",
      "3. Guinea (Hegemony Score: 0)\n",
      "4. Italy (Hegemony Score: 1)\n",
      "5. Mongolia (Hegemony Score: 1)\n",
      "6. Sri Lanka (Hegemony Score: 1)\n",
      "7. Israel (Hegemony Score: 1)\n",
      "8. Romania (Hegemony Score: 2)\n",
      "9. France (Hegemony Score: 2)\n",
      "10. Bermuda (Hegemony Score: 2)\n",
      "11. Madagascar (Hegemony Score: 2)\n",
      "12. Hungary (Hegemony Score: 3)\n",
      "13. Burundi (Hegemony Score: 3)\n",
      "14. Somalia (Hegemony Score: 3)\n",
      "15. Finland (Hegemony Score: 3)\n",
      "16. Denmark (Hegemony Score: 3)\n",
      "17. Albania (Hegemony Score: 4)\n",
      "18. Algeria (Hegemony Score: 4)\n",
      "19. Eritrea (Hegemony Score: 4)\n",
      "20. Sierra Leone (Hegemony Score: 5)\n",
      "21. Georgia (Hegemony Score: 6)\n",
      "22. Liberia (Hegemony Score: 6)\n",
      "23. Nicaragua (Hegemony Score: 6)\n",
      "24. Iceland (Hegemony Score: 6)\n",
      "25. American Samoa (Hegemony Score: 6)\n",
      "26. Sudan (Hegemony Score: 7)\n",
      "27. Rwanda (Hegemony Score: 7)\n",
      "28. Uruguay (Hegemony Score: 8)\n",
      "29. Zimbabwe (Hegemony Score: 8)\n",
      "30. Germany (Hegemony Score: 8)\n",
      "31. Jordan (Hegemony Score: 9)\n",
      "32. Portugal (Hegemony Score: 10)\n",
      "33. Poland (Hegemony Score: 10)\n",
      "34. United Arab Emirates (Hegemony Score: 10)\n",
      "35. Armenia (Hegemony Score: 11)\n",
      "36. Ghana (Hegemony Score: 11)\n",
      "37. Guam (Hegemony Score: 12)\n",
      "38. Lesotho (Hegemony Score: 13)\n",
      "39. Spain (Hegemony Score: 13)\n",
      "40. Djibouti (Hegemony Score: 13)\n",
      "41. Mauritania (Hegemony Score: 14)\n",
      "42. Croatia (Hegemony Score: 14)\n",
      "43. Mexico (Hegemony Score: 14)\n",
      "44. Ireland (Hegemony Score: 15)\n",
      "45. North Macedonia (Hegemony Score: 15)\n",
      "46. Aruba (Hegemony Score: 16)\n",
      "47. Serbia (Hegemony Score: 16)\n",
      "48. Malawi (Hegemony Score: 16)\n",
      "49. New Zealand (Hegemony Score: 18)\n",
      "50. Haiti (Hegemony Score: 18)\n",
      "51. Timor-Leste (Hegemony Score: 19)\n",
      "52. Guatemala (Hegemony Score: 20)\n",
      "53. Russian Federation (Hegemony Score: 20)\n",
      "54. Austria (Hegemony Score: 21)\n",
      "55. New Caledonia (Hegemony Score: 21)\n",
      "56. Virgin Islands (U.S.) (Hegemony Score: 22)\n",
      "57. Suriname (Hegemony Score: 23)\n",
      "58. Argentina (Hegemony Score: 23)\n",
      "59. Sweden (Hegemony Score: 23)\n",
      "60. Greece (Hegemony Score: 23)\n",
      "61. Belarus (Hegemony Score: 23)\n",
      "62. Saudi Arabia (Hegemony Score: 24)\n",
      "63. Singapore (Hegemony Score: 24)\n",
      "64. Canada (Hegemony Score: 25)\n",
      "65. Tunisia (Hegemony Score: 25)\n",
      "66. Azerbaijan (Hegemony Score: 25)\n",
      "67. Togo (Hegemony Score: 26)\n",
      "68. Lithuania (Hegemony Score: 29)\n",
      "69. Brazil (Hegemony Score: 30)\n",
      "70. Uganda (Hegemony Score: 30)\n",
      "71. Ethiopia (Hegemony Score: 30)\n",
      "72. Isle of Man (Hegemony Score: 30)\n",
      "73. Kazakhstan (Hegemony Score: 31)\n",
      "74. Czechia (Hegemony Score: 31)\n",
      "75. Guinea-Bissau (Hegemony Score: 32)\n",
      "76. Dominican Republic (Hegemony Score: 33)\n",
      "77. Morocco (Hegemony Score: 33)\n",
      "78. Paraguay (Hegemony Score: 34)\n",
      "79. Norway (Hegemony Score: 34)\n",
      "80. Niger (Hegemony Score: 34)\n",
      "81. Switzerland (Hegemony Score: 34)\n",
      "82. Iraq (Hegemony Score: 34)\n",
      "83. Luxembourg (Hegemony Score: 34)\n",
      "84. Bosnia and Herzegovina (Hegemony Score: 35)\n",
      "85. Angola (Hegemony Score: 35)\n",
      "86. Peru (Hegemony Score: 35)\n",
      "87. Montenegro (Hegemony Score: 36)\n",
      "88. Estonia (Hegemony Score: 36)\n",
      "89. Mozambique (Hegemony Score: 36)\n",
      "90. Australia (Hegemony Score: 37)\n",
      "91. Sao Tome and Principe (Hegemony Score: 38)\n",
      "92. French Polynesia (Hegemony Score: 38)\n",
      "93. Slovenia (Hegemony Score: 38)\n",
      "94. Comoros (Hegemony Score: 39)\n",
      "95. Viet Nam (Hegemony Score: 39)\n",
      "96. China (Hegemony Score: 41)\n",
      "97. Mali (Hegemony Score: 42)\n",
      "98. Latvia (Hegemony Score: 42)\n",
      "99. El Salvador (Hegemony Score: 42)\n",
      "100. Papua New Guinea (Hegemony Score: 44)\n",
      "101. Belgium (Hegemony Score: 44)\n",
      "102. Ukraine (Hegemony Score: 44)\n",
      "103. Tajikistan (Hegemony Score: 45)\n",
      "104. San Marino (Hegemony Score: 45)\n",
      "105. Costa Rica (Hegemony Score: 45)\n",
      "106. Malaysia (Hegemony Score: 46)\n",
      "107. Chile (Hegemony Score: 46)\n",
      "108. Cyprus (Hegemony Score: 46)\n",
      "109. Cambodia (Hegemony Score: 47)\n",
      "110. Faroe Islands (Hegemony Score: 47)\n",
      "111. Cabo Verde (Hegemony Score: 48)\n",
      "112. Solomon Islands (Hegemony Score: 51)\n",
      "113. Jamaica (Hegemony Score: 53)\n",
      "114. Thailand (Hegemony Score: 55)\n",
      "115. Tonga (Hegemony Score: 56)\n",
      "116. Honduras (Hegemony Score: 56)\n",
      "117. Zambia (Hegemony Score: 59)\n",
      "118. South Africa (Hegemony Score: 60)\n",
      "119. Qatar (Hegemony Score: 60)\n",
      "120. Panama (Hegemony Score: 60)\n",
      "121. Dominica (Hegemony Score: 62)\n",
      "122. Burkina Faso (Hegemony Score: 62)\n",
      "123. Uzbekistan (Hegemony Score: 64)\n",
      "124. Nigeria (Hegemony Score: 64)\n",
      "125. Gabon (Hegemony Score: 68)\n",
      "126. Kenya (Hegemony Score: 68)\n",
      "127. Eswatini (Hegemony Score: 68)\n",
      "128. Belize (Hegemony Score: 69)\n",
      "129. Myanmar (Hegemony Score: 70)\n",
      "130. Monaco (Hegemony Score: 71)\n",
      "131. Benin (Hegemony Score: 72)\n",
      "132. Senegal (Hegemony Score: 72)\n",
      "133. Greenland (Hegemony Score: 73)\n",
      "134. Turkmenistan (Hegemony Score: 76)\n",
      "135. Ecuador (Hegemony Score: 76)\n",
      "136. Lebanon (Hegemony Score: 78)\n",
      "137. Chad (Hegemony Score: 79)\n",
      "138. Trinidad and Tobago (Hegemony Score: 81)\n",
      "139. Marshall Islands (Hegemony Score: 81)\n",
      "140. Fiji (Hegemony Score: 84)\n",
      "141. Colombia (Hegemony Score: 89)\n",
      "142. Malta (Hegemony Score: 90)\n",
      "143. Gibraltar (Hegemony Score: 91)\n",
      "144. Cuba (Hegemony Score: 93)\n",
      "145. Brunei Darussalam (Hegemony Score: 93)\n",
      "146. Kuwait (Hegemony Score: 94)\n",
      "147. Pakistan (Hegemony Score: 95)\n",
      "148. Mauritius (Hegemony Score: 96)\n",
      "149. Nepal (Hegemony Score: 96)\n",
      "150. Maldives (Hegemony Score: 97)\n",
      "151. Syrian Arab Republic (Hegemony Score: 97)\n",
      "152. Andorra (Hegemony Score: 98)\n",
      "153. Puerto Rico (Hegemony Score: 99)\n",
      "154. Botswana (Hegemony Score: 100)\n",
      "155. Equatorial Guinea (Hegemony Score: 100)\n",
      "156. Grenada (Hegemony Score: 100)\n",
      "157. Bahrain (Hegemony Score: 102)\n",
      "158. Libya (Hegemony Score: 102)\n",
      "159. Philippines (Hegemony Score: 102)\n",
      "160. Indonesia (Hegemony Score: 103)\n",
      "161. Bangladesh (Hegemony Score: 105)\n",
      "162. Oman (Hegemony Score: 105)\n",
      "163. Bhutan (Hegemony Score: 110)\n",
      "164. Afghanistan (Hegemony Score: 110)\n",
      "165. Guyana (Hegemony Score: 110)\n",
      "166. Antigua and Barbuda (Hegemony Score: 119)\n",
      "167. Barbados (Hegemony Score: 126)\n",
      "168. India (Hegemony Score: 127)\n",
      "169. Liechtenstein (Hegemony Score: 139)\n",
      "170. Seychelles (Hegemony Score: 139)\n",
      "171. Cameroon (Hegemony Score: 150)\n"
     ]
    }
   ],
   "source": [
    "gdp_score_hegemony = compute_hegemony(gdp_df, avg_score_df, 'gdp', 'avg_score')\n",
    "pop_votes_hegemony = compute_hegemony(pop_df, votes_df, 'pop', 'votes')\n",
    "gdp_pop_wgt_score_hegemony = compute_hegemony(gdp_pop_df, avg_wgt_score_df, 'gdp_pop', 'wgt_score')\n"
   ],
   "metadata": {
    "collapsed": false,
    "ExecuteTime": {
     "end_time": "2024-07-08T21:39:18.431442Z",
     "start_time": "2024-07-08T21:39:18.394953Z"
    }
   },
   "id": "18c1c4a16eb2f300",
   "execution_count": 18
  },
  {
   "cell_type": "markdown",
   "source": [
    "# Task 3 - Focus on Directors"
   ],
   "metadata": {
    "collapsed": false
   },
   "id": "bc172982e0b9879f"
  },
  {
   "cell_type": "code",
   "outputs": [
    {
     "name": "stdout",
     "output_type": "stream",
     "text": [
      "Loading data from: data_imdb\\title.crew.tsv ...\n",
      "Loading data from: data_imdb\\name.basics.tsv ...\n"
     ]
    }
   ],
   "source": [
    "data_dir = 'data_imdb'\n",
    "\n",
    "crew = clean_data(load_data(os.path.join(data_dir, 'title.crew.tsv')))\n",
    "names = clean_data(load_data(os.path.join(data_dir, 'name.basics.tsv')))"
   ],
   "metadata": {
    "collapsed": false,
    "ExecuteTime": {
     "end_time": "2024-07-08T21:40:01.436977Z",
     "start_time": "2024-07-08T21:39:18.432579Z"
    }
   },
   "id": "306e35e82aa22b9c",
   "execution_count": 19
  },
  {
   "cell_type": "code",
   "outputs": [
    {
     "data": {
      "text/plain": "            tconst   directors                                  writers  \\\n0        tt0111161   nm0001104                      nm0000175,nm0001104   \n1        tt0468569   nm0634240  nm0634300,nm0634240,nm0275286,nm0004170   \n2        tt1375666   nm0634240                                nm0634240   \n3        tt0137523   nm0000399                      nm0657333,nm0880243   \n4        tt0109830   nm0000709                      nm0343165,nm0744839   \n...            ...         ...                                      ...   \n310807  tt31156932  nm15794661                               nm15794661   \n310808  tt30798708  nm15690913                               nm15690913   \n310809  tt27833215  nm14534816                               nm14534816   \n310810  tt30625407  nm14782664                                     <NA>   \n310811  tt31251426   nm2308800                                nm2308800   \n\n            nconst                 primaryName birthYear deathYear  \\\n0        nm0001104              Frank Darabont      1959      <NA>   \n1        nm0634240           Christopher Nolan      1970      <NA>   \n2        nm0634240           Christopher Nolan      1970      <NA>   \n3        nm0000399               David Fincher      1962      <NA>   \n4        nm0000709             Robert Zemeckis      1952      <NA>   \n...            ...                         ...       ...       ...   \n310807  nm15794661  Mohammad Hossein Haghighat      <NA>      <NA>   \n310808  nm15690913     Mohammad Mehdi Choopani      <NA>      <NA>   \n310809  nm14534816               Rein Alpajora      2009      <NA>   \n310810  nm14782664      Seyyed Amin Kazemzadeh      <NA>      <NA>   \n310811   nm2308800         Ensie Shah Hosseini      <NA>      <NA>   \n\n                        primaryProfession  \\\n0                writer,producer,director   \n1                writer,producer,director   \n2                writer,producer,director   \n3                producer,director,writer   \n4                producer,writer,director   \n...                                   ...   \n310807                    director,writer   \n310808                    director,writer   \n310809  actor,writer,editorial_department   \n310810                     director,actor   \n310811     writer,director,art_department   \n\n                                     knownForTitles titleType  ... ordering  \\\n0           tt0120689,tt0111161,tt0884328,tt1520211     movie  ...        1   \n1           tt6723592,tt0816692,tt1375666,tt0482571     movie  ...        1   \n2           tt6723592,tt0816692,tt1375666,tt0482571     movie  ...        1   \n3           tt0114369,tt2267998,tt0443706,tt1285016     movie  ...        1   \n4           tt0088763,tt0109830,tt0118884,tt1907668     movie  ...        1   \n...                                             ...       ...  ...      ...   \n310807                                   tt31156932     movie  ...        1   \n310808                                   tt30798708     movie  ...        1   \n310809  tt26629920,tt26660659,tt31797757,tt27997441     movie  ...        1   \n310810             tt30625407,tt32167147,tt27580522     movie  ...        1   \n310811   tt2117958,tt31160247,tt31251426,tt27911272     movie  ...        1   \n\n                                title region language     types attributes  \\\n0            The Shawshank Redemption   <NA>     <NA>  original       <NA>   \n1                     The Dark Knight   <NA>     <NA>  original       <NA>   \n2                           Inception   <NA>     <NA>  original       <NA>   \n3                          Fight Club   <NA>     <NA>  original       <NA>   \n4                        Forrest Gump   <NA>     <NA>  original       <NA>   \n...                               ...    ...      ...       ...        ...   \n310807                    Parvaze 175   <NA>     <NA>  original       <NA>   \n310808  Arezoohayat Ra Be Khak Naspar   <NA>     <NA>  original       <NA>   \n310809             The Doll: Creation   <NA>     <NA>  original       <NA>   \n310810                     Borde Sagi   <NA>     <NA>  original       <NA>   \n310811                 Daste Na Peyda   <NA>     <NA>  original       <NA>   \n\n       isOriginalTitle   titleId_y  country composite_score  \n0                    1   tt0111161       IS       871760.31  \n1                    1   tt0468569       ID       866137.50  \n2                    1   tt1375666       GB       769596.16  \n3                    1   tt0137523       FI       701755.36  \n4                    1   tt0109830       DK       681472.06  \n...                ...         ...      ...             ...  \n310807               1  tt31156932       IR            2.50  \n310808               1  tt30798708       IR            2.20  \n310809               1  tt27833215       PH            2.20  \n310810               1  tt30625407       IR            2.20  \n310811               1  tt31251426       IR            2.20  \n\n[278002 rows x 30 columns]",
      "text/html": "<div>\n<style scoped>\n    .dataframe tbody tr th:only-of-type {\n        vertical-align: middle;\n    }\n\n    .dataframe tbody tr th {\n        vertical-align: top;\n    }\n\n    .dataframe thead th {\n        text-align: right;\n    }\n</style>\n<table border=\"1\" class=\"dataframe\">\n  <thead>\n    <tr style=\"text-align: right;\">\n      <th></th>\n      <th>tconst</th>\n      <th>directors</th>\n      <th>writers</th>\n      <th>nconst</th>\n      <th>primaryName</th>\n      <th>birthYear</th>\n      <th>deathYear</th>\n      <th>primaryProfession</th>\n      <th>knownForTitles</th>\n      <th>titleType</th>\n      <th>...</th>\n      <th>ordering</th>\n      <th>title</th>\n      <th>region</th>\n      <th>language</th>\n      <th>types</th>\n      <th>attributes</th>\n      <th>isOriginalTitle</th>\n      <th>titleId_y</th>\n      <th>country</th>\n      <th>composite_score</th>\n    </tr>\n  </thead>\n  <tbody>\n    <tr>\n      <th>0</th>\n      <td>tt0111161</td>\n      <td>nm0001104</td>\n      <td>nm0000175,nm0001104</td>\n      <td>nm0001104</td>\n      <td>Frank Darabont</td>\n      <td>1959</td>\n      <td>&lt;NA&gt;</td>\n      <td>writer,producer,director</td>\n      <td>tt0120689,tt0111161,tt0884328,tt1520211</td>\n      <td>movie</td>\n      <td>...</td>\n      <td>1</td>\n      <td>The Shawshank Redemption</td>\n      <td>&lt;NA&gt;</td>\n      <td>&lt;NA&gt;</td>\n      <td>original</td>\n      <td>&lt;NA&gt;</td>\n      <td>1</td>\n      <td>tt0111161</td>\n      <td>IS</td>\n      <td>871760.31</td>\n    </tr>\n    <tr>\n      <th>1</th>\n      <td>tt0468569</td>\n      <td>nm0634240</td>\n      <td>nm0634300,nm0634240,nm0275286,nm0004170</td>\n      <td>nm0634240</td>\n      <td>Christopher Nolan</td>\n      <td>1970</td>\n      <td>&lt;NA&gt;</td>\n      <td>writer,producer,director</td>\n      <td>tt6723592,tt0816692,tt1375666,tt0482571</td>\n      <td>movie</td>\n      <td>...</td>\n      <td>1</td>\n      <td>The Dark Knight</td>\n      <td>&lt;NA&gt;</td>\n      <td>&lt;NA&gt;</td>\n      <td>original</td>\n      <td>&lt;NA&gt;</td>\n      <td>1</td>\n      <td>tt0468569</td>\n      <td>ID</td>\n      <td>866137.50</td>\n    </tr>\n    <tr>\n      <th>2</th>\n      <td>tt1375666</td>\n      <td>nm0634240</td>\n      <td>nm0634240</td>\n      <td>nm0634240</td>\n      <td>Christopher Nolan</td>\n      <td>1970</td>\n      <td>&lt;NA&gt;</td>\n      <td>writer,producer,director</td>\n      <td>tt6723592,tt0816692,tt1375666,tt0482571</td>\n      <td>movie</td>\n      <td>...</td>\n      <td>1</td>\n      <td>Inception</td>\n      <td>&lt;NA&gt;</td>\n      <td>&lt;NA&gt;</td>\n      <td>original</td>\n      <td>&lt;NA&gt;</td>\n      <td>1</td>\n      <td>tt1375666</td>\n      <td>GB</td>\n      <td>769596.16</td>\n    </tr>\n    <tr>\n      <th>3</th>\n      <td>tt0137523</td>\n      <td>nm0000399</td>\n      <td>nm0657333,nm0880243</td>\n      <td>nm0000399</td>\n      <td>David Fincher</td>\n      <td>1962</td>\n      <td>&lt;NA&gt;</td>\n      <td>producer,director,writer</td>\n      <td>tt0114369,tt2267998,tt0443706,tt1285016</td>\n      <td>movie</td>\n      <td>...</td>\n      <td>1</td>\n      <td>Fight Club</td>\n      <td>&lt;NA&gt;</td>\n      <td>&lt;NA&gt;</td>\n      <td>original</td>\n      <td>&lt;NA&gt;</td>\n      <td>1</td>\n      <td>tt0137523</td>\n      <td>FI</td>\n      <td>701755.36</td>\n    </tr>\n    <tr>\n      <th>4</th>\n      <td>tt0109830</td>\n      <td>nm0000709</td>\n      <td>nm0343165,nm0744839</td>\n      <td>nm0000709</td>\n      <td>Robert Zemeckis</td>\n      <td>1952</td>\n      <td>&lt;NA&gt;</td>\n      <td>producer,writer,director</td>\n      <td>tt0088763,tt0109830,tt0118884,tt1907668</td>\n      <td>movie</td>\n      <td>...</td>\n      <td>1</td>\n      <td>Forrest Gump</td>\n      <td>&lt;NA&gt;</td>\n      <td>&lt;NA&gt;</td>\n      <td>original</td>\n      <td>&lt;NA&gt;</td>\n      <td>1</td>\n      <td>tt0109830</td>\n      <td>DK</td>\n      <td>681472.06</td>\n    </tr>\n    <tr>\n      <th>...</th>\n      <td>...</td>\n      <td>...</td>\n      <td>...</td>\n      <td>...</td>\n      <td>...</td>\n      <td>...</td>\n      <td>...</td>\n      <td>...</td>\n      <td>...</td>\n      <td>...</td>\n      <td>...</td>\n      <td>...</td>\n      <td>...</td>\n      <td>...</td>\n      <td>...</td>\n      <td>...</td>\n      <td>...</td>\n      <td>...</td>\n      <td>...</td>\n      <td>...</td>\n      <td>...</td>\n    </tr>\n    <tr>\n      <th>310807</th>\n      <td>tt31156932</td>\n      <td>nm15794661</td>\n      <td>nm15794661</td>\n      <td>nm15794661</td>\n      <td>Mohammad Hossein Haghighat</td>\n      <td>&lt;NA&gt;</td>\n      <td>&lt;NA&gt;</td>\n      <td>director,writer</td>\n      <td>tt31156932</td>\n      <td>movie</td>\n      <td>...</td>\n      <td>1</td>\n      <td>Parvaze 175</td>\n      <td>&lt;NA&gt;</td>\n      <td>&lt;NA&gt;</td>\n      <td>original</td>\n      <td>&lt;NA&gt;</td>\n      <td>1</td>\n      <td>tt31156932</td>\n      <td>IR</td>\n      <td>2.50</td>\n    </tr>\n    <tr>\n      <th>310808</th>\n      <td>tt30798708</td>\n      <td>nm15690913</td>\n      <td>nm15690913</td>\n      <td>nm15690913</td>\n      <td>Mohammad Mehdi Choopani</td>\n      <td>&lt;NA&gt;</td>\n      <td>&lt;NA&gt;</td>\n      <td>director,writer</td>\n      <td>tt30798708</td>\n      <td>movie</td>\n      <td>...</td>\n      <td>1</td>\n      <td>Arezoohayat Ra Be Khak Naspar</td>\n      <td>&lt;NA&gt;</td>\n      <td>&lt;NA&gt;</td>\n      <td>original</td>\n      <td>&lt;NA&gt;</td>\n      <td>1</td>\n      <td>tt30798708</td>\n      <td>IR</td>\n      <td>2.20</td>\n    </tr>\n    <tr>\n      <th>310809</th>\n      <td>tt27833215</td>\n      <td>nm14534816</td>\n      <td>nm14534816</td>\n      <td>nm14534816</td>\n      <td>Rein Alpajora</td>\n      <td>2009</td>\n      <td>&lt;NA&gt;</td>\n      <td>actor,writer,editorial_department</td>\n      <td>tt26629920,tt26660659,tt31797757,tt27997441</td>\n      <td>movie</td>\n      <td>...</td>\n      <td>1</td>\n      <td>The Doll: Creation</td>\n      <td>&lt;NA&gt;</td>\n      <td>&lt;NA&gt;</td>\n      <td>original</td>\n      <td>&lt;NA&gt;</td>\n      <td>1</td>\n      <td>tt27833215</td>\n      <td>PH</td>\n      <td>2.20</td>\n    </tr>\n    <tr>\n      <th>310810</th>\n      <td>tt30625407</td>\n      <td>nm14782664</td>\n      <td>&lt;NA&gt;</td>\n      <td>nm14782664</td>\n      <td>Seyyed Amin Kazemzadeh</td>\n      <td>&lt;NA&gt;</td>\n      <td>&lt;NA&gt;</td>\n      <td>director,actor</td>\n      <td>tt30625407,tt32167147,tt27580522</td>\n      <td>movie</td>\n      <td>...</td>\n      <td>1</td>\n      <td>Borde Sagi</td>\n      <td>&lt;NA&gt;</td>\n      <td>&lt;NA&gt;</td>\n      <td>original</td>\n      <td>&lt;NA&gt;</td>\n      <td>1</td>\n      <td>tt30625407</td>\n      <td>IR</td>\n      <td>2.20</td>\n    </tr>\n    <tr>\n      <th>310811</th>\n      <td>tt31251426</td>\n      <td>nm2308800</td>\n      <td>nm2308800</td>\n      <td>nm2308800</td>\n      <td>Ensie Shah Hosseini</td>\n      <td>&lt;NA&gt;</td>\n      <td>&lt;NA&gt;</td>\n      <td>writer,director,art_department</td>\n      <td>tt2117958,tt31160247,tt31251426,tt27911272</td>\n      <td>movie</td>\n      <td>...</td>\n      <td>1</td>\n      <td>Daste Na Peyda</td>\n      <td>&lt;NA&gt;</td>\n      <td>&lt;NA&gt;</td>\n      <td>original</td>\n      <td>&lt;NA&gt;</td>\n      <td>1</td>\n      <td>tt31251426</td>\n      <td>IR</td>\n      <td>2.20</td>\n    </tr>\n  </tbody>\n</table>\n<p>278002 rows × 30 columns</p>\n</div>"
     },
     "execution_count": 20,
     "metadata": {},
     "output_type": "execute_result"
    }
   ],
   "source": [
    "movies_directors_df = prepare_movies_directors(crew, names, movies_df)\n",
    "movies_directors_df"
   ],
   "metadata": {
    "collapsed": false,
    "ExecuteTime": {
     "end_time": "2024-07-08T21:40:18.061987Z",
     "start_time": "2024-07-08T21:40:01.440493Z"
    }
   },
   "id": "4754f926a02ed670",
   "execution_count": 20
  },
  {
   "cell_type": "code",
   "outputs": [
    {
     "data": {
      "text/plain": "                       primaryName  aggregated_score  total_movies      rank\n0                Christopher Nolan     407315.641667            12       1.0\n1                   Frank Darabont     354156.782500             4       2.0\n2                    John Lasseter     322166.810000             1       3.0\n3                Quentin Tarantino     271842.562500            12       4.0\n4                      Lee Unkrich     268908.110000             1       5.0\n...                            ...               ...           ...       ...\n104506  Mohammad Hossein Haghighat          2.500000             1  104507.0\n104507       Abdolreza Nematollahi          2.500000             1  104507.0\n104508     Mohammad Mehdi Choopani          2.200000             1  104509.0\n104509               Rein Alpajora          2.200000             1  104509.0\n104510      Seyyed Amin Kazemzadeh          2.200000             1  104509.0\n\n[104511 rows x 4 columns]",
      "text/html": "<div>\n<style scoped>\n    .dataframe tbody tr th:only-of-type {\n        vertical-align: middle;\n    }\n\n    .dataframe tbody tr th {\n        vertical-align: top;\n    }\n\n    .dataframe thead th {\n        text-align: right;\n    }\n</style>\n<table border=\"1\" class=\"dataframe\">\n  <thead>\n    <tr style=\"text-align: right;\">\n      <th></th>\n      <th>primaryName</th>\n      <th>aggregated_score</th>\n      <th>total_movies</th>\n      <th>rank</th>\n    </tr>\n  </thead>\n  <tbody>\n    <tr>\n      <th>0</th>\n      <td>Christopher Nolan</td>\n      <td>407315.641667</td>\n      <td>12</td>\n      <td>1.0</td>\n    </tr>\n    <tr>\n      <th>1</th>\n      <td>Frank Darabont</td>\n      <td>354156.782500</td>\n      <td>4</td>\n      <td>2.0</td>\n    </tr>\n    <tr>\n      <th>2</th>\n      <td>John Lasseter</td>\n      <td>322166.810000</td>\n      <td>1</td>\n      <td>3.0</td>\n    </tr>\n    <tr>\n      <th>3</th>\n      <td>Quentin Tarantino</td>\n      <td>271842.562500</td>\n      <td>12</td>\n      <td>4.0</td>\n    </tr>\n    <tr>\n      <th>4</th>\n      <td>Lee Unkrich</td>\n      <td>268908.110000</td>\n      <td>1</td>\n      <td>5.0</td>\n    </tr>\n    <tr>\n      <th>...</th>\n      <td>...</td>\n      <td>...</td>\n      <td>...</td>\n      <td>...</td>\n    </tr>\n    <tr>\n      <th>104506</th>\n      <td>Mohammad Hossein Haghighat</td>\n      <td>2.500000</td>\n      <td>1</td>\n      <td>104507.0</td>\n    </tr>\n    <tr>\n      <th>104507</th>\n      <td>Abdolreza Nematollahi</td>\n      <td>2.500000</td>\n      <td>1</td>\n      <td>104507.0</td>\n    </tr>\n    <tr>\n      <th>104508</th>\n      <td>Mohammad Mehdi Choopani</td>\n      <td>2.200000</td>\n      <td>1</td>\n      <td>104509.0</td>\n    </tr>\n    <tr>\n      <th>104509</th>\n      <td>Rein Alpajora</td>\n      <td>2.200000</td>\n      <td>1</td>\n      <td>104509.0</td>\n    </tr>\n    <tr>\n      <th>104510</th>\n      <td>Seyyed Amin Kazemzadeh</td>\n      <td>2.200000</td>\n      <td>1</td>\n      <td>104509.0</td>\n    </tr>\n  </tbody>\n</table>\n<p>104511 rows × 4 columns</p>\n</div>"
     },
     "execution_count": 35,
     "metadata": {},
     "output_type": "execute_result"
    }
   ],
   "source": [
    "rank_directors(movies_directors_df, 'primaryName', 'composite_score', 'mean')"
   ],
   "metadata": {
    "collapsed": false,
    "ExecuteTime": {
     "end_time": "2024-07-08T22:15:19.486882Z",
     "start_time": "2024-07-08T22:15:19.286200Z"
    }
   },
   "id": "11e583198db45c04",
   "execution_count": 35
  },
  {
   "cell_type": "code",
   "outputs": [
    {
     "data": {
      "text/plain": "                       primaryName  aggregated_score  total_movies      rank\n0                Christopher Nolan        4887787.70            12       1.0\n1                 Steven Spielberg        4371850.41            34       2.0\n2                Quentin Tarantino        3262110.75            12       3.0\n3                  Martin Scorsese        3193269.69            36       4.0\n4                    David Fincher        2731575.10            12       5.0\n...                            ...               ...           ...       ...\n104506       Abdolreza Nematollahi              2.50             1  104507.0\n104507  Mohammad Hossein Haghighat              2.50             1  104507.0\n104508     Mohammad Mehdi Choopani              2.20             1  104509.0\n104509      Seyyed Amin Kazemzadeh              2.20             1  104509.0\n104510               Rein Alpajora              2.20             1  104509.0\n\n[104511 rows x 4 columns]",
      "text/html": "<div>\n<style scoped>\n    .dataframe tbody tr th:only-of-type {\n        vertical-align: middle;\n    }\n\n    .dataframe tbody tr th {\n        vertical-align: top;\n    }\n\n    .dataframe thead th {\n        text-align: right;\n    }\n</style>\n<table border=\"1\" class=\"dataframe\">\n  <thead>\n    <tr style=\"text-align: right;\">\n      <th></th>\n      <th>primaryName</th>\n      <th>aggregated_score</th>\n      <th>total_movies</th>\n      <th>rank</th>\n    </tr>\n  </thead>\n  <tbody>\n    <tr>\n      <th>0</th>\n      <td>Christopher Nolan</td>\n      <td>4887787.70</td>\n      <td>12</td>\n      <td>1.0</td>\n    </tr>\n    <tr>\n      <th>1</th>\n      <td>Steven Spielberg</td>\n      <td>4371850.41</td>\n      <td>34</td>\n      <td>2.0</td>\n    </tr>\n    <tr>\n      <th>2</th>\n      <td>Quentin Tarantino</td>\n      <td>3262110.75</td>\n      <td>12</td>\n      <td>3.0</td>\n    </tr>\n    <tr>\n      <th>3</th>\n      <td>Martin Scorsese</td>\n      <td>3193269.69</td>\n      <td>36</td>\n      <td>4.0</td>\n    </tr>\n    <tr>\n      <th>4</th>\n      <td>David Fincher</td>\n      <td>2731575.10</td>\n      <td>12</td>\n      <td>5.0</td>\n    </tr>\n    <tr>\n      <th>...</th>\n      <td>...</td>\n      <td>...</td>\n      <td>...</td>\n      <td>...</td>\n    </tr>\n    <tr>\n      <th>104506</th>\n      <td>Abdolreza Nematollahi</td>\n      <td>2.50</td>\n      <td>1</td>\n      <td>104507.0</td>\n    </tr>\n    <tr>\n      <th>104507</th>\n      <td>Mohammad Hossein Haghighat</td>\n      <td>2.50</td>\n      <td>1</td>\n      <td>104507.0</td>\n    </tr>\n    <tr>\n      <th>104508</th>\n      <td>Mohammad Mehdi Choopani</td>\n      <td>2.20</td>\n      <td>1</td>\n      <td>104509.0</td>\n    </tr>\n    <tr>\n      <th>104509</th>\n      <td>Seyyed Amin Kazemzadeh</td>\n      <td>2.20</td>\n      <td>1</td>\n      <td>104509.0</td>\n    </tr>\n    <tr>\n      <th>104510</th>\n      <td>Rein Alpajora</td>\n      <td>2.20</td>\n      <td>1</td>\n      <td>104509.0</td>\n    </tr>\n  </tbody>\n</table>\n<p>104511 rows × 4 columns</p>\n</div>"
     },
     "execution_count": 36,
     "metadata": {},
     "output_type": "execute_result"
    }
   ],
   "source": [
    "rank_directors(movies_directors_df, 'primaryName', 'composite_score', 'sum')    "
   ],
   "metadata": {
    "collapsed": false,
    "ExecuteTime": {
     "end_time": "2024-07-08T22:15:29.848539Z",
     "start_time": "2024-07-08T22:15:29.630558Z"
    }
   },
   "id": "3d023c043d4631d1",
   "execution_count": 36
  },
  {
   "cell_type": "code",
   "outputs": [
    {
     "data": {
      "text/plain": "                      primaryName  custom_score  total_movies      rank\n0               Christopher Nolan     63.525089            12       1.0\n1                  Frank Darabont     20.122436             4       2.0\n2               Quentin Tarantino     18.051022            12       3.0\n3                   David Fincher      9.358073            12       4.0\n4                   John Lasseter      1.391147             1       5.0\n...                           ...           ...           ...       ...\n104506  Gilberto Martínez Solares   -419.969170           140  104507.0\n104507           William Beaudine   -422.856006           141  104508.0\n104508             Michael Curtiz   -461.841225           155  104509.0\n104509               Jesús Franco   -464.695353           155  104510.0\n104510               Sam Newfield   -596.884347           199  104511.0\n\n[104511 rows x 4 columns]",
      "text/html": "<div>\n<style scoped>\n    .dataframe tbody tr th:only-of-type {\n        vertical-align: middle;\n    }\n\n    .dataframe tbody tr th {\n        vertical-align: top;\n    }\n\n    .dataframe thead th {\n        text-align: right;\n    }\n</style>\n<table border=\"1\" class=\"dataframe\">\n  <thead>\n    <tr style=\"text-align: right;\">\n      <th></th>\n      <th>primaryName</th>\n      <th>custom_score</th>\n      <th>total_movies</th>\n      <th>rank</th>\n    </tr>\n  </thead>\n  <tbody>\n    <tr>\n      <th>0</th>\n      <td>Christopher Nolan</td>\n      <td>63.525089</td>\n      <td>12</td>\n      <td>1.0</td>\n    </tr>\n    <tr>\n      <th>1</th>\n      <td>Frank Darabont</td>\n      <td>20.122436</td>\n      <td>4</td>\n      <td>2.0</td>\n    </tr>\n    <tr>\n      <th>2</th>\n      <td>Quentin Tarantino</td>\n      <td>18.051022</td>\n      <td>12</td>\n      <td>3.0</td>\n    </tr>\n    <tr>\n      <th>3</th>\n      <td>David Fincher</td>\n      <td>9.358073</td>\n      <td>12</td>\n      <td>4.0</td>\n    </tr>\n    <tr>\n      <th>4</th>\n      <td>John Lasseter</td>\n      <td>1.391147</td>\n      <td>1</td>\n      <td>5.0</td>\n    </tr>\n    <tr>\n      <th>...</th>\n      <td>...</td>\n      <td>...</td>\n      <td>...</td>\n      <td>...</td>\n    </tr>\n    <tr>\n      <th>104506</th>\n      <td>Gilberto Martínez Solares</td>\n      <td>-419.969170</td>\n      <td>140</td>\n      <td>104507.0</td>\n    </tr>\n    <tr>\n      <th>104507</th>\n      <td>William Beaudine</td>\n      <td>-422.856006</td>\n      <td>141</td>\n      <td>104508.0</td>\n    </tr>\n    <tr>\n      <th>104508</th>\n      <td>Michael Curtiz</td>\n      <td>-461.841225</td>\n      <td>155</td>\n      <td>104509.0</td>\n    </tr>\n    <tr>\n      <th>104509</th>\n      <td>Jesús Franco</td>\n      <td>-464.695353</td>\n      <td>155</td>\n      <td>104510.0</td>\n    </tr>\n    <tr>\n      <th>104510</th>\n      <td>Sam Newfield</td>\n      <td>-596.884347</td>\n      <td>199</td>\n      <td>104511.0</td>\n    </tr>\n  </tbody>\n</table>\n<p>104511 rows × 4 columns</p>\n</div>"
     },
     "execution_count": 59,
     "metadata": {},
     "output_type": "execute_result"
    }
   ],
   "source": [
    "custom_ranking(movies_directors_df, 'primaryName', 'composite_score', good_threshold=7.0, bad_threshold=3.0)"
   ],
   "metadata": {
    "collapsed": false,
    "ExecuteTime": {
     "end_time": "2024-07-08T22:48:20.235112Z",
     "start_time": "2024-07-08T22:48:19.675141Z"
    }
   },
   "id": "f68daa9144dcb7b9",
   "execution_count": 59
  }
 ],
 "metadata": {
  "kernelspec": {
   "display_name": "Python 3",
   "language": "python",
   "name": "python3"
  },
  "language_info": {
   "codemirror_mode": {
    "name": "ipython",
    "version": 2
   },
   "file_extension": ".py",
   "mimetype": "text/x-python",
   "name": "python",
   "nbconvert_exporter": "python",
   "pygments_lexer": "ipython2",
   "version": "2.7.6"
  }
 },
 "nbformat": 4,
 "nbformat_minor": 5
}
