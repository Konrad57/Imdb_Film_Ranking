{
 "cells": [
  {
   "cell_type": "markdown",
   "source": [
    "# Imports"
   ],
   "metadata": {
    "collapsed": false
   },
   "id": "a7480c2bbdd65fab"
  },
  {
   "cell_type": "code",
   "execution_count": 1,
   "id": "initial_id",
   "metadata": {
    "collapsed": true,
    "ExecuteTime": {
     "end_time": "2024-06-23T16:56:24.766814Z",
     "start_time": "2024-06-23T16:56:24.138788Z"
    }
   },
   "outputs": [],
   "source": [
    "import numpy as np\n",
    "import pandas as pd\n",
    "#import matplotlib.pyplot as plt\n",
    "#import seaborn as sns\n",
    "from functions import load_and_clean_all_data, quality_of_movies_by_country"
   ]
  },
  {
   "cell_type": "markdown",
   "source": [
    "# Data loading"
   ],
   "metadata": {
    "collapsed": false
   },
   "id": "c60614fb6200f6ea"
  },
  {
   "cell_type": "code",
   "outputs": [
    {
     "name": "stdout",
     "output_type": "stream",
     "text": [
      "Loading data_imdb\\title.basics.tsv...\n",
      "Loading data_imdb\\title.akas.tsv...\n",
      "Loading data_imdb\\title.crew.tsv...\n",
      "Loading data_imdb\\title.ratings.tsv...\n",
      "Loading data_imdb\\name.basics.tsv...\n",
      "Sample data from basics:\n"
     ]
    },
    {
     "data": {
      "text/plain": "      tconst titleType            primaryTitle           originalTitle  \\\n0  tt0000001     short              Carmencita              Carmencita   \n1  tt0000002     short  Le clown et ses chiens  Le clown et ses chiens   \n2  tt0000003     short          Pauvre Pierrot          Pauvre Pierrot   \n3  tt0000004     short             Un bon bock             Un bon bock   \n4  tt0000005     short        Blacksmith Scene        Blacksmith Scene   \n\n  isAdult startYear endYear runtimeMinutes                    genres  \n0       0      1894    <NA>              1         Documentary,Short  \n1       0      1892    <NA>              5           Animation,Short  \n2       0      1892    <NA>              5  Animation,Comedy,Romance  \n3       0      1892    <NA>             12           Animation,Short  \n4       0      1893    <NA>              1              Comedy,Short  ",
      "text/html": "<div>\n<style scoped>\n    .dataframe tbody tr th:only-of-type {\n        vertical-align: middle;\n    }\n\n    .dataframe tbody tr th {\n        vertical-align: top;\n    }\n\n    .dataframe thead th {\n        text-align: right;\n    }\n</style>\n<table border=\"1\" class=\"dataframe\">\n  <thead>\n    <tr style=\"text-align: right;\">\n      <th></th>\n      <th>tconst</th>\n      <th>titleType</th>\n      <th>primaryTitle</th>\n      <th>originalTitle</th>\n      <th>isAdult</th>\n      <th>startYear</th>\n      <th>endYear</th>\n      <th>runtimeMinutes</th>\n      <th>genres</th>\n    </tr>\n  </thead>\n  <tbody>\n    <tr>\n      <th>0</th>\n      <td>tt0000001</td>\n      <td>short</td>\n      <td>Carmencita</td>\n      <td>Carmencita</td>\n      <td>0</td>\n      <td>1894</td>\n      <td>&lt;NA&gt;</td>\n      <td>1</td>\n      <td>Documentary,Short</td>\n    </tr>\n    <tr>\n      <th>1</th>\n      <td>tt0000002</td>\n      <td>short</td>\n      <td>Le clown et ses chiens</td>\n      <td>Le clown et ses chiens</td>\n      <td>0</td>\n      <td>1892</td>\n      <td>&lt;NA&gt;</td>\n      <td>5</td>\n      <td>Animation,Short</td>\n    </tr>\n    <tr>\n      <th>2</th>\n      <td>tt0000003</td>\n      <td>short</td>\n      <td>Pauvre Pierrot</td>\n      <td>Pauvre Pierrot</td>\n      <td>0</td>\n      <td>1892</td>\n      <td>&lt;NA&gt;</td>\n      <td>5</td>\n      <td>Animation,Comedy,Romance</td>\n    </tr>\n    <tr>\n      <th>3</th>\n      <td>tt0000004</td>\n      <td>short</td>\n      <td>Un bon bock</td>\n      <td>Un bon bock</td>\n      <td>0</td>\n      <td>1892</td>\n      <td>&lt;NA&gt;</td>\n      <td>12</td>\n      <td>Animation,Short</td>\n    </tr>\n    <tr>\n      <th>4</th>\n      <td>tt0000005</td>\n      <td>short</td>\n      <td>Blacksmith Scene</td>\n      <td>Blacksmith Scene</td>\n      <td>0</td>\n      <td>1893</td>\n      <td>&lt;NA&gt;</td>\n      <td>1</td>\n      <td>Comedy,Short</td>\n    </tr>\n  </tbody>\n</table>\n</div>"
     },
     "metadata": {},
     "output_type": "display_data"
    },
    {
     "name": "stdout",
     "output_type": "stream",
     "text": [
      "Sample data from akas:\n"
     ]
    },
    {
     "data": {
      "text/plain": "     titleId  ordering                      title region language  \\\n0  tt0000001         1                 Carmencita   <NA>     <NA>   \n1  tt0000001         2                 Carmencita     DE     <NA>   \n2  tt0000001         3                 Carmencita     US     <NA>   \n3  tt0000001         4  Carmencita - spanyol tánc     HU     <NA>   \n4  tt0000001         5                 Καρμενσίτα     GR     <NA>   \n\n         types     attributes  isOriginalTitle  \n0     original           <NA>                1  \n1         <NA>  literal title                0  \n2  imdbDisplay           <NA>                0  \n3  imdbDisplay           <NA>                0  \n4  imdbDisplay           <NA>                0  ",
      "text/html": "<div>\n<style scoped>\n    .dataframe tbody tr th:only-of-type {\n        vertical-align: middle;\n    }\n\n    .dataframe tbody tr th {\n        vertical-align: top;\n    }\n\n    .dataframe thead th {\n        text-align: right;\n    }\n</style>\n<table border=\"1\" class=\"dataframe\">\n  <thead>\n    <tr style=\"text-align: right;\">\n      <th></th>\n      <th>titleId</th>\n      <th>ordering</th>\n      <th>title</th>\n      <th>region</th>\n      <th>language</th>\n      <th>types</th>\n      <th>attributes</th>\n      <th>isOriginalTitle</th>\n    </tr>\n  </thead>\n  <tbody>\n    <tr>\n      <th>0</th>\n      <td>tt0000001</td>\n      <td>1</td>\n      <td>Carmencita</td>\n      <td>&lt;NA&gt;</td>\n      <td>&lt;NA&gt;</td>\n      <td>original</td>\n      <td>&lt;NA&gt;</td>\n      <td>1</td>\n    </tr>\n    <tr>\n      <th>1</th>\n      <td>tt0000001</td>\n      <td>2</td>\n      <td>Carmencita</td>\n      <td>DE</td>\n      <td>&lt;NA&gt;</td>\n      <td>&lt;NA&gt;</td>\n      <td>literal title</td>\n      <td>0</td>\n    </tr>\n    <tr>\n      <th>2</th>\n      <td>tt0000001</td>\n      <td>3</td>\n      <td>Carmencita</td>\n      <td>US</td>\n      <td>&lt;NA&gt;</td>\n      <td>imdbDisplay</td>\n      <td>&lt;NA&gt;</td>\n      <td>0</td>\n    </tr>\n    <tr>\n      <th>3</th>\n      <td>tt0000001</td>\n      <td>4</td>\n      <td>Carmencita - spanyol tánc</td>\n      <td>HU</td>\n      <td>&lt;NA&gt;</td>\n      <td>imdbDisplay</td>\n      <td>&lt;NA&gt;</td>\n      <td>0</td>\n    </tr>\n    <tr>\n      <th>4</th>\n      <td>tt0000001</td>\n      <td>5</td>\n      <td>Καρμενσίτα</td>\n      <td>GR</td>\n      <td>&lt;NA&gt;</td>\n      <td>imdbDisplay</td>\n      <td>&lt;NA&gt;</td>\n      <td>0</td>\n    </tr>\n  </tbody>\n</table>\n</div>"
     },
     "metadata": {},
     "output_type": "display_data"
    },
    {
     "name": "stdout",
     "output_type": "stream",
     "text": [
      "Sample data from crew:\n"
     ]
    },
    {
     "data": {
      "text/plain": "      tconst  directors writers\n0  tt0000001  nm0005690    <NA>\n1  tt0000002  nm0721526    <NA>\n2  tt0000003  nm0721526    <NA>\n3  tt0000004  nm0721526    <NA>\n4  tt0000005  nm0005690    <NA>",
      "text/html": "<div>\n<style scoped>\n    .dataframe tbody tr th:only-of-type {\n        vertical-align: middle;\n    }\n\n    .dataframe tbody tr th {\n        vertical-align: top;\n    }\n\n    .dataframe thead th {\n        text-align: right;\n    }\n</style>\n<table border=\"1\" class=\"dataframe\">\n  <thead>\n    <tr style=\"text-align: right;\">\n      <th></th>\n      <th>tconst</th>\n      <th>directors</th>\n      <th>writers</th>\n    </tr>\n  </thead>\n  <tbody>\n    <tr>\n      <th>0</th>\n      <td>tt0000001</td>\n      <td>nm0005690</td>\n      <td>&lt;NA&gt;</td>\n    </tr>\n    <tr>\n      <th>1</th>\n      <td>tt0000002</td>\n      <td>nm0721526</td>\n      <td>&lt;NA&gt;</td>\n    </tr>\n    <tr>\n      <th>2</th>\n      <td>tt0000003</td>\n      <td>nm0721526</td>\n      <td>&lt;NA&gt;</td>\n    </tr>\n    <tr>\n      <th>3</th>\n      <td>tt0000004</td>\n      <td>nm0721526</td>\n      <td>&lt;NA&gt;</td>\n    </tr>\n    <tr>\n      <th>4</th>\n      <td>tt0000005</td>\n      <td>nm0005690</td>\n      <td>&lt;NA&gt;</td>\n    </tr>\n  </tbody>\n</table>\n</div>"
     },
     "metadata": {},
     "output_type": "display_data"
    },
    {
     "name": "stdout",
     "output_type": "stream",
     "text": [
      "Sample data from ratings:\n"
     ]
    },
    {
     "data": {
      "text/plain": "      tconst  averageRating  numVotes\n0  tt0000001            5.7      2058\n1  tt0000002            5.7       276\n2  tt0000003            6.5      2022\n3  tt0000004            5.4       179\n4  tt0000005            6.2      2787",
      "text/html": "<div>\n<style scoped>\n    .dataframe tbody tr th:only-of-type {\n        vertical-align: middle;\n    }\n\n    .dataframe tbody tr th {\n        vertical-align: top;\n    }\n\n    .dataframe thead th {\n        text-align: right;\n    }\n</style>\n<table border=\"1\" class=\"dataframe\">\n  <thead>\n    <tr style=\"text-align: right;\">\n      <th></th>\n      <th>tconst</th>\n      <th>averageRating</th>\n      <th>numVotes</th>\n    </tr>\n  </thead>\n  <tbody>\n    <tr>\n      <th>0</th>\n      <td>tt0000001</td>\n      <td>5.7</td>\n      <td>2058</td>\n    </tr>\n    <tr>\n      <th>1</th>\n      <td>tt0000002</td>\n      <td>5.7</td>\n      <td>276</td>\n    </tr>\n    <tr>\n      <th>2</th>\n      <td>tt0000003</td>\n      <td>6.5</td>\n      <td>2022</td>\n    </tr>\n    <tr>\n      <th>3</th>\n      <td>tt0000004</td>\n      <td>5.4</td>\n      <td>179</td>\n    </tr>\n    <tr>\n      <th>4</th>\n      <td>tt0000005</td>\n      <td>6.2</td>\n      <td>2787</td>\n    </tr>\n  </tbody>\n</table>\n</div>"
     },
     "metadata": {},
     "output_type": "display_data"
    },
    {
     "name": "stdout",
     "output_type": "stream",
     "text": [
      "Sample data from names:\n"
     ]
    },
    {
     "data": {
      "text/plain": "      nconst      primaryName birthYear deathYear  \\\n0  nm0000001     Fred Astaire      1899      1987   \n1  nm0000002    Lauren Bacall      1924      2014   \n2  nm0000003  Brigitte Bardot      1934      <NA>   \n3  nm0000004     John Belushi      1949      1982   \n4  nm0000005   Ingmar Bergman      1918      2007   \n\n                    primaryProfession                           knownForTitles  \n0        actor,miscellaneous,producer  tt0072308,tt0050419,tt0053137,tt0027125  \n1  actress,soundtrack,archive_footage  tt0037382,tt0075213,tt0117057,tt0038355  \n2   actress,music_department,producer  tt0057345,tt0049189,tt0056404,tt0054452  \n3       actor,writer,music_department  tt0072562,tt0077975,tt0080455,tt0078723  \n4               writer,director,actor  tt0050986,tt0083922,tt0050976,tt0069467  ",
      "text/html": "<div>\n<style scoped>\n    .dataframe tbody tr th:only-of-type {\n        vertical-align: middle;\n    }\n\n    .dataframe tbody tr th {\n        vertical-align: top;\n    }\n\n    .dataframe thead th {\n        text-align: right;\n    }\n</style>\n<table border=\"1\" class=\"dataframe\">\n  <thead>\n    <tr style=\"text-align: right;\">\n      <th></th>\n      <th>nconst</th>\n      <th>primaryName</th>\n      <th>birthYear</th>\n      <th>deathYear</th>\n      <th>primaryProfession</th>\n      <th>knownForTitles</th>\n    </tr>\n  </thead>\n  <tbody>\n    <tr>\n      <th>0</th>\n      <td>nm0000001</td>\n      <td>Fred Astaire</td>\n      <td>1899</td>\n      <td>1987</td>\n      <td>actor,miscellaneous,producer</td>\n      <td>tt0072308,tt0050419,tt0053137,tt0027125</td>\n    </tr>\n    <tr>\n      <th>1</th>\n      <td>nm0000002</td>\n      <td>Lauren Bacall</td>\n      <td>1924</td>\n      <td>2014</td>\n      <td>actress,soundtrack,archive_footage</td>\n      <td>tt0037382,tt0075213,tt0117057,tt0038355</td>\n    </tr>\n    <tr>\n      <th>2</th>\n      <td>nm0000003</td>\n      <td>Brigitte Bardot</td>\n      <td>1934</td>\n      <td>&lt;NA&gt;</td>\n      <td>actress,music_department,producer</td>\n      <td>tt0057345,tt0049189,tt0056404,tt0054452</td>\n    </tr>\n    <tr>\n      <th>3</th>\n      <td>nm0000004</td>\n      <td>John Belushi</td>\n      <td>1949</td>\n      <td>1982</td>\n      <td>actor,writer,music_department</td>\n      <td>tt0072562,tt0077975,tt0080455,tt0078723</td>\n    </tr>\n    <tr>\n      <th>4</th>\n      <td>nm0000005</td>\n      <td>Ingmar Bergman</td>\n      <td>1918</td>\n      <td>2007</td>\n      <td>writer,director,actor</td>\n      <td>tt0050986,tt0083922,tt0050976,tt0069467</td>\n    </tr>\n  </tbody>\n</table>\n</div>"
     },
     "metadata": {},
     "output_type": "display_data"
    }
   ],
   "source": [
    "# Define the data directory and output directory\n",
    "data_dir = 'data_imdb'\n",
    "output_dir = 'cleaned_data'\n",
    "\n",
    "# Load and clean the data\n",
    "data = load_and_clean_all_data(data_dir)\n",
    "\n",
    "# Display a sample of the datasets\n",
    "for key, df in data.items():\n",
    "    print(f\"Sample data from {key}:\")\n",
    "    display(df.head())\n"
   ],
   "metadata": {
    "collapsed": false,
    "ExecuteTime": {
     "end_time": "2024-06-23T16:59:39.579682Z",
     "start_time": "2024-06-23T16:56:38.517114Z"
    }
   },
   "id": "5b68c5268a3f296a",
   "execution_count": 3
  },
  {
   "cell_type": "code",
   "outputs": [
    {
     "data": {
      "text/plain": "   region  avg_rating  total_votes  composite_score\n32     US        10.0          401            127.3\n18     IN        10.0           82             31.6\n13     GB        10.0           70             28.0\n4      BR        10.0           63             25.9\n27     TH        10.0           58             24.4\n30     UA        10.0           46             20.8\n25     RU        10.0           46             20.8\n11     ES        10.0           45             20.5\n33    XWW        10.0           37             18.1\n12     FR        10.0           35             17.5",
      "text/html": "<div>\n<style scoped>\n    .dataframe tbody tr th:only-of-type {\n        vertical-align: middle;\n    }\n\n    .dataframe tbody tr th {\n        vertical-align: top;\n    }\n\n    .dataframe thead th {\n        text-align: right;\n    }\n</style>\n<table border=\"1\" class=\"dataframe\">\n  <thead>\n    <tr style=\"text-align: right;\">\n      <th></th>\n      <th>region</th>\n      <th>avg_rating</th>\n      <th>total_votes</th>\n      <th>composite_score</th>\n    </tr>\n  </thead>\n  <tbody>\n    <tr>\n      <th>32</th>\n      <td>US</td>\n      <td>10.0</td>\n      <td>401</td>\n      <td>127.3</td>\n    </tr>\n    <tr>\n      <th>18</th>\n      <td>IN</td>\n      <td>10.0</td>\n      <td>82</td>\n      <td>31.6</td>\n    </tr>\n    <tr>\n      <th>13</th>\n      <td>GB</td>\n      <td>10.0</td>\n      <td>70</td>\n      <td>28.0</td>\n    </tr>\n    <tr>\n      <th>4</th>\n      <td>BR</td>\n      <td>10.0</td>\n      <td>63</td>\n      <td>25.9</td>\n    </tr>\n    <tr>\n      <th>27</th>\n      <td>TH</td>\n      <td>10.0</td>\n      <td>58</td>\n      <td>24.4</td>\n    </tr>\n    <tr>\n      <th>30</th>\n      <td>UA</td>\n      <td>10.0</td>\n      <td>46</td>\n      <td>20.8</td>\n    </tr>\n    <tr>\n      <th>25</th>\n      <td>RU</td>\n      <td>10.0</td>\n      <td>46</td>\n      <td>20.8</td>\n    </tr>\n    <tr>\n      <th>11</th>\n      <td>ES</td>\n      <td>10.0</td>\n      <td>45</td>\n      <td>20.5</td>\n    </tr>\n    <tr>\n      <th>33</th>\n      <td>XWW</td>\n      <td>10.0</td>\n      <td>37</td>\n      <td>18.1</td>\n    </tr>\n    <tr>\n      <th>12</th>\n      <td>FR</td>\n      <td>10.0</td>\n      <td>35</td>\n      <td>17.5</td>\n    </tr>\n  </tbody>\n</table>\n</div>"
     },
     "execution_count": 4,
     "metadata": {},
     "output_type": "execute_result"
    }
   ],
   "source": [
    "top_n = 200\n",
    "\n",
    "country_quality = quality_of_movies_by_country(data, top_n)\n",
    "country_quality.head(10)"
   ],
   "metadata": {
    "collapsed": false,
    "ExecuteTime": {
     "end_time": "2024-06-23T17:00:40.178906Z",
     "start_time": "2024-06-23T17:00:15.521978Z"
    }
   },
   "id": "4862768c9e284183",
   "execution_count": 4
  },
  {
   "cell_type": "code",
   "outputs": [],
   "source": [],
   "metadata": {
    "collapsed": false
   },
   "id": "26a94c5c095fb90e"
  },
  {
   "cell_type": "code",
   "outputs": [],
   "source": [],
   "metadata": {
    "collapsed": false
   },
   "id": "ec4e2c9616c61a5f"
  },
  {
   "cell_type": "code",
   "outputs": [],
   "source": [],
   "metadata": {
    "collapsed": false
   },
   "id": "370024ac07b8fda7"
  }
 ],
 "metadata": {
  "kernelspec": {
   "display_name": "Python 3",
   "language": "python",
   "name": "python3"
  },
  "language_info": {
   "codemirror_mode": {
    "name": "ipython",
    "version": 2
   },
   "file_extension": ".py",
   "mimetype": "text/x-python",
   "name": "python",
   "nbconvert_exporter": "python",
   "pygments_lexer": "ipython2",
   "version": "2.7.6"
  }
 },
 "nbformat": 4,
 "nbformat_minor": 5
}
